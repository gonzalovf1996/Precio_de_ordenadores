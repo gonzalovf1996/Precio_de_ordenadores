{
 "cells": [
  {
   "cell_type": "code",
   "execution_count": 1,
   "metadata": {},
   "outputs": [],
   "source": [
    "# Tratamiento de datos\n",
    "# ==============================================================================\n",
    "import os\n",
    "import pandas as pd\n",
    "import numpy as np\n",
    "\n",
    "# Gráficos\n",
    "# ==============================================================================\n",
    "import seaborn as sns\n",
    "import matplotlib.pyplot as plt"
   ]
  },
  {
   "cell_type": "markdown",
   "metadata": {},
   "source": [
    "# 1. Exploración de datos\n",
    "---------------------------"
   ]
  },
  {
   "cell_type": "code",
   "execution_count": 2,
   "metadata": {},
   "outputs": [],
   "source": [
    "train = pd.read_csv('../data/raw/train.csv')"
   ]
  },
  {
   "cell_type": "code",
   "execution_count": 3,
   "metadata": {},
   "outputs": [
    {
     "name": "stdout",
     "output_type": "stream",
     "text": [
      "<class 'pandas.core.frame.DataFrame'>\n",
      "RangeIndex: 912 entries, 0 to 911\n",
      "Data columns (total 13 columns):\n",
      " #   Column            Non-Null Count  Dtype  \n",
      "---  ------            --------------  -----  \n",
      " 0   id                912 non-null    int64  \n",
      " 1   Company           912 non-null    object \n",
      " 2   Product           912 non-null    object \n",
      " 3   TypeName          912 non-null    object \n",
      " 4   Inches            912 non-null    float64\n",
      " 5   ScreenResolution  912 non-null    object \n",
      " 6   Cpu               912 non-null    object \n",
      " 7   Ram               912 non-null    object \n",
      " 8   Memory            912 non-null    object \n",
      " 9   Gpu               912 non-null    object \n",
      " 10  OpSys             912 non-null    object \n",
      " 11  Weight            912 non-null    object \n",
      " 12  Price_euros       912 non-null    float64\n",
      "dtypes: float64(2), int64(1), object(10)\n",
      "memory usage: 92.8+ KB\n"
     ]
    }
   ],
   "source": [
    "train.info()"
   ]
  },
  {
   "cell_type": "code",
   "execution_count": 4,
   "metadata": {},
   "outputs": [
    {
     "data": {
      "text/plain": [
       "id                  0\n",
       "Company             0\n",
       "Product             0\n",
       "TypeName            0\n",
       "Inches              0\n",
       "ScreenResolution    0\n",
       "Cpu                 0\n",
       "Ram                 0\n",
       "Memory              0\n",
       "Gpu                 0\n",
       "OpSys               0\n",
       "Weight              0\n",
       "Price_euros         0\n",
       "dtype: int64"
      ]
     },
     "execution_count": 4,
     "metadata": {},
     "output_type": "execute_result"
    }
   ],
   "source": [
    "train.isnull().sum()"
   ]
  },
  {
   "cell_type": "code",
   "execution_count": 5,
   "metadata": {},
   "outputs": [
    {
     "data": {
      "text/html": [
       "<div>\n",
       "<style scoped>\n",
       "    .dataframe tbody tr th:only-of-type {\n",
       "        vertical-align: middle;\n",
       "    }\n",
       "\n",
       "    .dataframe tbody tr th {\n",
       "        vertical-align: top;\n",
       "    }\n",
       "\n",
       "    .dataframe thead th {\n",
       "        text-align: right;\n",
       "    }\n",
       "</style>\n",
       "<table border=\"1\" class=\"dataframe\">\n",
       "  <thead>\n",
       "    <tr style=\"text-align: right;\">\n",
       "      <th></th>\n",
       "      <th>id</th>\n",
       "      <th>Inches</th>\n",
       "      <th>Price_euros</th>\n",
       "    </tr>\n",
       "  </thead>\n",
       "  <tbody>\n",
       "    <tr>\n",
       "      <th>count</th>\n",
       "      <td>912.000000</td>\n",
       "      <td>912.000000</td>\n",
       "      <td>912.000000</td>\n",
       "    </tr>\n",
       "    <tr>\n",
       "      <th>mean</th>\n",
       "      <td>653.076754</td>\n",
       "      <td>15.003289</td>\n",
       "      <td>1138.022478</td>\n",
       "    </tr>\n",
       "    <tr>\n",
       "      <th>std</th>\n",
       "      <td>378.906322</td>\n",
       "      <td>1.437009</td>\n",
       "      <td>715.342718</td>\n",
       "    </tr>\n",
       "    <tr>\n",
       "      <th>min</th>\n",
       "      <td>0.000000</td>\n",
       "      <td>10.100000</td>\n",
       "      <td>174.000000</td>\n",
       "    </tr>\n",
       "    <tr>\n",
       "      <th>25%</th>\n",
       "      <td>317.750000</td>\n",
       "      <td>14.000000</td>\n",
       "      <td>615.500000</td>\n",
       "    </tr>\n",
       "    <tr>\n",
       "      <th>50%</th>\n",
       "      <td>657.500000</td>\n",
       "      <td>15.600000</td>\n",
       "      <td>989.000000</td>\n",
       "    </tr>\n",
       "    <tr>\n",
       "      <th>75%</th>\n",
       "      <td>980.500000</td>\n",
       "      <td>15.600000</td>\n",
       "      <td>1493.350000</td>\n",
       "    </tr>\n",
       "    <tr>\n",
       "      <th>max</th>\n",
       "      <td>1302.000000</td>\n",
       "      <td>17.300000</td>\n",
       "      <td>6099.000000</td>\n",
       "    </tr>\n",
       "  </tbody>\n",
       "</table>\n",
       "</div>"
      ],
      "text/plain": [
       "                id      Inches  Price_euros\n",
       "count   912.000000  912.000000   912.000000\n",
       "mean    653.076754   15.003289  1138.022478\n",
       "std     378.906322    1.437009   715.342718\n",
       "min       0.000000   10.100000   174.000000\n",
       "25%     317.750000   14.000000   615.500000\n",
       "50%     657.500000   15.600000   989.000000\n",
       "75%     980.500000   15.600000  1493.350000\n",
       "max    1302.000000   17.300000  6099.000000"
      ]
     },
     "execution_count": 5,
     "metadata": {},
     "output_type": "execute_result"
    }
   ],
   "source": [
    "train.describe()"
   ]
  },
  {
   "cell_type": "code",
   "execution_count": 6,
   "metadata": {},
   "outputs": [
    {
     "data": {
      "text/html": [
       "<div>\n",
       "<style scoped>\n",
       "    .dataframe tbody tr th:only-of-type {\n",
       "        vertical-align: middle;\n",
       "    }\n",
       "\n",
       "    .dataframe tbody tr th {\n",
       "        vertical-align: top;\n",
       "    }\n",
       "\n",
       "    .dataframe thead th {\n",
       "        text-align: right;\n",
       "    }\n",
       "</style>\n",
       "<table border=\"1\" class=\"dataframe\">\n",
       "  <thead>\n",
       "    <tr style=\"text-align: right;\">\n",
       "      <th></th>\n",
       "      <th>id</th>\n",
       "      <th>Company</th>\n",
       "      <th>Product</th>\n",
       "      <th>TypeName</th>\n",
       "      <th>Inches</th>\n",
       "      <th>ScreenResolution</th>\n",
       "      <th>Cpu</th>\n",
       "      <th>Ram</th>\n",
       "      <th>Memory</th>\n",
       "      <th>Gpu</th>\n",
       "      <th>OpSys</th>\n",
       "      <th>Weight</th>\n",
       "      <th>Price_euros</th>\n",
       "    </tr>\n",
       "  </thead>\n",
       "  <tbody>\n",
       "    <tr>\n",
       "      <th>907</th>\n",
       "      <td>256</td>\n",
       "      <td>HP</td>\n",
       "      <td>15-BW094nd (A6-9220/8GB/128GB/W10)</td>\n",
       "      <td>Notebook</td>\n",
       "      <td>15.6</td>\n",
       "      <td>1366x768</td>\n",
       "      <td>AMD A6-Series A6-9220 2.5GHz</td>\n",
       "      <td>8GB</td>\n",
       "      <td>128GB SSD</td>\n",
       "      <td>AMD Radeon R4 Graphics</td>\n",
       "      <td>Windows 10</td>\n",
       "      <td>1.91kg</td>\n",
       "      <td>445.9</td>\n",
       "    </tr>\n",
       "    <tr>\n",
       "      <th>908</th>\n",
       "      <td>794</td>\n",
       "      <td>Apple</td>\n",
       "      <td>MacBook 12\"</td>\n",
       "      <td>Ultrabook</td>\n",
       "      <td>12.0</td>\n",
       "      <td>IPS Panel Retina Display 2304x1440</td>\n",
       "      <td>Intel Core M 1.2GHz</td>\n",
       "      <td>8GB</td>\n",
       "      <td>512GB Flash Storage</td>\n",
       "      <td>Intel HD Graphics 5300</td>\n",
       "      <td>Mac OS X</td>\n",
       "      <td>0.920kg</td>\n",
       "      <td>1165.0</td>\n",
       "    </tr>\n",
       "    <tr>\n",
       "      <th>909</th>\n",
       "      <td>1057</td>\n",
       "      <td>Acer</td>\n",
       "      <td>Aspire ES1-523</td>\n",
       "      <td>Notebook</td>\n",
       "      <td>15.6</td>\n",
       "      <td>1366x768</td>\n",
       "      <td>AMD A8-Series 7410 2.2GHz</td>\n",
       "      <td>8GB</td>\n",
       "      <td>1TB HDD</td>\n",
       "      <td>AMD Radeon R5</td>\n",
       "      <td>Windows 10</td>\n",
       "      <td>2.4kg</td>\n",
       "      <td>449.0</td>\n",
       "    </tr>\n",
       "    <tr>\n",
       "      <th>910</th>\n",
       "      <td>1061</td>\n",
       "      <td>Asus</td>\n",
       "      <td>Rog G752VL-GC088D</td>\n",
       "      <td>Gaming</td>\n",
       "      <td>17.3</td>\n",
       "      <td>IPS Panel Full HD 1920x1080</td>\n",
       "      <td>Intel Core i7 6700HQ 2.6GHz</td>\n",
       "      <td>16GB</td>\n",
       "      <td>1TB HDD</td>\n",
       "      <td>Nvidia GeForce GTX 965M</td>\n",
       "      <td>No OS</td>\n",
       "      <td>4kg</td>\n",
       "      <td>998.0</td>\n",
       "    </tr>\n",
       "    <tr>\n",
       "      <th>911</th>\n",
       "      <td>373</td>\n",
       "      <td>Lenovo</td>\n",
       "      <td>IdeaPad 110-17ACL</td>\n",
       "      <td>Notebook</td>\n",
       "      <td>17.3</td>\n",
       "      <td>1600x900</td>\n",
       "      <td>AMD A8-Series 7410 2.2GHz</td>\n",
       "      <td>4GB</td>\n",
       "      <td>128GB SSD</td>\n",
       "      <td>AMD Radeon R5</td>\n",
       "      <td>Windows 10</td>\n",
       "      <td>2.6kg</td>\n",
       "      <td>489.0</td>\n",
       "    </tr>\n",
       "  </tbody>\n",
       "</table>\n",
       "</div>"
      ],
      "text/plain": [
       "       id Company                             Product   TypeName  Inches  \\\n",
       "907   256      HP  15-BW094nd (A6-9220/8GB/128GB/W10)   Notebook    15.6   \n",
       "908   794   Apple                         MacBook 12\"  Ultrabook    12.0   \n",
       "909  1057    Acer                      Aspire ES1-523   Notebook    15.6   \n",
       "910  1061    Asus                   Rog G752VL-GC088D     Gaming    17.3   \n",
       "911   373  Lenovo                   IdeaPad 110-17ACL   Notebook    17.3   \n",
       "\n",
       "                       ScreenResolution                           Cpu   Ram  \\\n",
       "907                            1366x768  AMD A6-Series A6-9220 2.5GHz   8GB   \n",
       "908  IPS Panel Retina Display 2304x1440           Intel Core M 1.2GHz   8GB   \n",
       "909                            1366x768     AMD A8-Series 7410 2.2GHz   8GB   \n",
       "910         IPS Panel Full HD 1920x1080   Intel Core i7 6700HQ 2.6GHz  16GB   \n",
       "911                            1600x900     AMD A8-Series 7410 2.2GHz   4GB   \n",
       "\n",
       "                  Memory                      Gpu       OpSys   Weight  \\\n",
       "907            128GB SSD   AMD Radeon R4 Graphics  Windows 10   1.91kg   \n",
       "908  512GB Flash Storage   Intel HD Graphics 5300    Mac OS X  0.920kg   \n",
       "909              1TB HDD            AMD Radeon R5  Windows 10    2.4kg   \n",
       "910              1TB HDD  Nvidia GeForce GTX 965M       No OS      4kg   \n",
       "911            128GB SSD            AMD Radeon R5  Windows 10    2.6kg   \n",
       "\n",
       "     Price_euros  \n",
       "907        445.9  \n",
       "908       1165.0  \n",
       "909        449.0  \n",
       "910        998.0  \n",
       "911        489.0  "
      ]
     },
     "execution_count": 6,
     "metadata": {},
     "output_type": "execute_result"
    }
   ],
   "source": [
    "train.tail()"
   ]
  },
  {
   "cell_type": "markdown",
   "metadata": {},
   "source": [
    "# 2. Procesamiento de datos\n",
    "---------------------------"
   ]
  },
  {
   "cell_type": "markdown",
   "metadata": {},
   "source": [
    "Tenemos que convertir todas las columnas a valores numéricos para poder tenerlas en cuenta en un modelo de predicción. Consideraciones:\n",
    "\n",
    "- La columna de ID no debe incluirse en el análisis\n",
    "- Transformamos la columna 'TypeName'. Al haber solamente 6 tipos, haremos un pd.get_dummies\n",
    "- Transformamos la columna 'Ram'\n",
    "- Transformamos la columna 'Memory'\n",
    "- Transformamos la columna 'ScreenResolution'\n",
    "    - dividiendo las que son táctiles del resto (conocimiento de negocio: generalmente los laptops táctiles son más caros)\n",
    "    - dividiendo los de high resolution del resto (conocimiento de negocio: generalmente los laptops de alta resolución son más caros)\n",
    "- Transformamos la columna de 'OpSys'\n",
    "- Tranformamos la columna de 'Weight' a integer\n",
    "\n",
    "Cabe señalar que el dataset no contiene datos nulos"
   ]
  },
  {
   "cell_type": "markdown",
   "metadata": {},
   "source": [
    "### Transformación de a columna 'TypeName'"
   ]
  },
  {
   "cell_type": "code",
   "execution_count": 7,
   "metadata": {},
   "outputs": [],
   "source": [
    "new_type_name = pd.get_dummies(train['TypeName'])"
   ]
  },
  {
   "cell_type": "code",
   "execution_count": 8,
   "metadata": {},
   "outputs": [],
   "source": [
    "train = pd.merge(train, new_type_name, left_index=True, right_index=True)"
   ]
  },
  {
   "cell_type": "markdown",
   "metadata": {},
   "source": [
    "### Transformación de la columna 'Ram'"
   ]
  },
  {
   "cell_type": "code",
   "execution_count": 9,
   "metadata": {},
   "outputs": [
    {
     "data": {
      "text/plain": [
       "array(['8GB', '6GB', '4GB', '16GB', '24GB', '12GB', '64GB', '32GB', '2GB'],\n",
       "      dtype=object)"
      ]
     },
     "execution_count": 9,
     "metadata": {},
     "output_type": "execute_result"
    }
   ],
   "source": [
    "train.Ram.unique()"
   ]
  },
  {
   "cell_type": "code",
   "execution_count": 10,
   "metadata": {},
   "outputs": [],
   "source": [
    "import re\n",
    "train['Ram'] = [re.compile('GB').sub('', x) for x in train['Ram']]\n",
    "train['Ram'] = train['Ram'].astype(int)"
   ]
  },
  {
   "cell_type": "markdown",
   "metadata": {},
   "source": [
    "### Tranformación de la columna 'Memory'"
   ]
  },
  {
   "cell_type": "code",
   "execution_count": 11,
   "metadata": {},
   "outputs": [
    {
     "data": {
      "text/plain": [
       "array(['1TB HDD', '256GB SSD', '128GB SSD', '256GB SSD +  1TB HDD',\n",
       "       '128GB SSD +  1TB HDD', '32GB Flash Storage', '500GB HDD',\n",
       "       '2TB HDD', '180GB SSD', '512GB SSD', '512GB SSD +  1TB HDD',\n",
       "       '256GB SSD +  2TB HDD', '16GB Flash Storage', '1.0TB Hybrid',\n",
       "       '1TB SSD', '64GB Flash Storage', '128GB SSD +  2TB HDD',\n",
       "       '128GB Flash Storage', '256GB Flash Storage',\n",
       "       '64GB Flash Storage +  1TB HDD', '1TB SSD +  1TB HDD',\n",
       "       '1TB HDD +  1TB HDD', '32GB SSD', '512GB SSD +  1.0TB Hybrid',\n",
       "       '1.0TB HDD', '508GB Hybrid', '16GB SSD', '512GB SSD +  2TB HDD',\n",
       "       '128GB HDD', '512GB SSD +  256GB SSD', '512GB Flash Storage',\n",
       "       '32GB HDD', '256GB SSD +  500GB HDD', '8GB SSD'], dtype=object)"
      ]
     },
     "execution_count": 11,
     "metadata": {},
     "output_type": "execute_result"
    }
   ],
   "source": [
    "train['Memory'].unique()"
   ]
  },
  {
   "cell_type": "code",
   "execution_count": 12,
   "metadata": {},
   "outputs": [],
   "source": [
    "train['Memory'] = [re.compile('GB SSD').sub('', x) for x in train['Memory']]\n",
    "train['Memory'] = [re.compile('GB HDD').sub('', x) for x in train['Memory']]\n",
    "train['Memory'] = [re.compile('GB Flash Storage').sub('', x) for x in train['Memory']]\n",
    "train['Memory'] = [re.compile('GB Hybrid').sub('', x) for x in train['Memory']]\n",
    "train['Memory'] = [re.compile('TB HDD').sub('000', x) for x in train['Memory']]\n",
    "train['Memory'] = [re.compile('TB SSD').sub('000', x) for x in train['Memory']]\n",
    "train['Memory'] = [re.compile('TB Hybrid').sub('000', x) for x in train['Memory']]\n",
    "\n",
    "train['Memory'] = train['Memory'].replace('256 +  1000', '1256')\n",
    "train['Memory'] = train['Memory'].replace('128 +  1000', '1128')\n",
    "train['Memory'] = train['Memory'].replace('512 +  1000', '1512')\n",
    "train['Memory'] = train['Memory'].replace('256 +  2000', '2256')\n",
    "train['Memory'] = train['Memory'].replace('1.0000', '1000')\n",
    "train['Memory'] = train['Memory'].replace('128 +  2000', '2128')\n",
    "\n",
    "train['Memory'] = train['Memory'].replace('64 +  1000', '1064')\n",
    "train['Memory'] = train['Memory'].replace('1000 +  1000', '2000')\n",
    "train['Memory'] = train['Memory'].replace('512 +  1.0000', '1512')\n",
    "train['Memory'] = train['Memory'].replace('512 +  2000', '2512')\n",
    "train['Memory'] = train['Memory'].replace('512 +  256', '768')\n",
    "train['Memory'] = train['Memory'].replace('256 +  500', '756')\n",
    "train['Memory'] = train['Memory'].astype(int)"
   ]
  },
  {
   "cell_type": "code",
   "execution_count": 13,
   "metadata": {},
   "outputs": [
    {
     "data": {
      "text/plain": [
       "array([1000,  256,  128, 1256, 1128,   32,  500, 2000,  180,  512, 1512,\n",
       "       2256,   16,   64, 2128, 1064,  508, 2512,  768,  756,    8])"
      ]
     },
     "execution_count": 13,
     "metadata": {},
     "output_type": "execute_result"
    }
   ],
   "source": [
    "train['Memory'].unique()"
   ]
  },
  {
   "cell_type": "markdown",
   "metadata": {},
   "source": [
    "### Transformación de la columna 'ScreenResolution'"
   ]
  },
  {
   "cell_type": "code",
   "execution_count": 14,
   "metadata": {},
   "outputs": [],
   "source": [
    "# Si es táctil, creamos una nueva columna\n",
    "train['Touchscreen'] = train['ScreenResolution']\n",
    "train['Touchscreen'] = train['Touchscreen'].str.contains('Touchscreen')\n",
    "train['Touchscreen'] = train['Touchscreen'].astype(int)"
   ]
  },
  {
   "cell_type": "code",
   "execution_count": 15,
   "metadata": {},
   "outputs": [],
   "source": [
    "# Si es HD o Retina, creamos una nueva columna\n",
    "train['High_resolucion'] = train['ScreenResolution']\n",
    "train['High_resolucion'] = train['High_resolucion'].str.contains('HD' or 'Retina' or 'IPS')\n",
    "train['High_resolucion'] = train['High_resolucion'].astype(int)"
   ]
  },
  {
   "cell_type": "code",
   "execution_count": 16,
   "metadata": {},
   "outputs": [
    {
     "data": {
      "text/plain": [
       "array([1, 0])"
      ]
     },
     "execution_count": 16,
     "metadata": {},
     "output_type": "execute_result"
    }
   ],
   "source": [
    "train['High_resolucion'].unique()"
   ]
  },
  {
   "cell_type": "markdown",
   "metadata": {},
   "source": [
    "### Transformamos la columna de 'Opsys'\n",
    "Muestra el sistema operativo, creamos una columna aparte con 0 y 1 para sistema operativo"
   ]
  },
  {
   "cell_type": "code",
   "execution_count": 17,
   "metadata": {},
   "outputs": [],
   "source": [
    "Operative_system = pd.get_dummies(train['OpSys'])\n",
    "train = pd.merge(train, Operative_system, left_index=True, right_index=True)"
   ]
  },
  {
   "cell_type": "markdown",
   "metadata": {},
   "source": [
    "### Tranformación de la columna 'Weight'\n",
    "Tenemos que transformarlo a 'int'"
   ]
  },
  {
   "cell_type": "code",
   "execution_count": 18,
   "metadata": {},
   "outputs": [],
   "source": [
    "train['Weight'] = [re.compile('kg').sub('', x) for x in train['Weight']]\n",
    "train['Weight'] = train['Weight'].astype(float)"
   ]
  },
  {
   "cell_type": "markdown",
   "metadata": {},
   "source": [
    "### Transformación de la columna 'Cpu'"
   ]
  },
  {
   "cell_type": "code",
   "execution_count": 19,
   "metadata": {},
   "outputs": [
    {
     "data": {
      "text/plain": [
       "array(['Intel Core i7 7500U 2.7GHz', 'Intel Core i5 7200U 2.5GHz',\n",
       "       'Intel Core i3 6006U 2GHz', 'Intel Core i7 6500U 2.5GHz',\n",
       "       'AMD Ryzen 1700 3GHz', 'Intel Core i7 7700HQ 2.8GHz',\n",
       "       'Intel Core i7 7600U 2.8GHz', 'Intel Core i3 7100U 2.4GHz',\n",
       "       'Intel Celeron Dual Core N3350 1.1GHz',\n",
       "       'Intel Core i5 8250U 1.6GHz', 'Intel Core i7 8550U 1.8GHz',\n",
       "       'Intel Core i3 6100U 2.3GHz', 'AMD A10-Series 9600P 2.4GHz',\n",
       "       'Intel Core i7 6600U 2.6GHz', 'Intel Core i5 6300HQ 2.3GHz',\n",
       "       'Intel Core i7 7820HQ 2.9GHz', 'Intel Core i5 7300HQ 2.5GHz',\n",
       "       'Intel Core i7 6500U 2.50GHz', 'AMD FX 8800P 2.1GHz',\n",
       "       'AMD A6-Series 9220 2.5GHz', 'Intel Core i7 7Y75 1.3GHz',\n",
       "       'Intel Celeron Dual Core N3060 1.6GHz',\n",
       "       'Intel Pentium Quad Core N3710 1.6GHz',\n",
       "       'Intel Celeron Dual Core N3050 1.6GHz',\n",
       "       'Intel Core i5 6200U 2.3GHz', 'Intel Core i7 6700HQ 2.6GHz',\n",
       "       'Intel Core i7 7500U 2.5GHz', 'AMD A9-Series 9410 2.9GHz',\n",
       "       'Intel Pentium Quad Core N4200 1.1GHz', 'AMD A9-Series 9420 3GHz',\n",
       "       'Intel Core i7 6820HK 2.7GHz', 'Intel Atom x5-Z8350 1.44GHz',\n",
       "       'AMD A4-Series 7210 2.2GHz', 'Intel Core M m3-7Y30 2.2GHz',\n",
       "       'Intel Core i5 7300U 2.6GHz', 'Intel Core i5 7440HQ 2.8GHz',\n",
       "       'Intel Core M M7-6Y75 1.2GHz', 'Intel Core i5 6300U 2.4GHz',\n",
       "       'AMD A12-Series 9720P 3.6GHz', 'AMD A12-Series 9700P 2.5GHz',\n",
       "       'Intel Core i5 7200U 2.7GHz',\n",
       "       'Intel Celeron Dual Core 3855U 1.6GHz',\n",
       "       'AMD A6-Series 9220 2.9GHz', 'Intel Core i3 7130U 2.7GHz',\n",
       "       'Intel Core i5 1.8GHz', 'Intel Core i3 6006U 2.0GHz',\n",
       "       'AMD E-Series 9000 2.2GHz', 'Intel Core i5 7Y54 1.2GHz',\n",
       "       'Intel Core M 6Y54 1.1GHz', 'AMD A6-Series A6-9220 2.5GHz',\n",
       "       'Intel Core M 6Y30 0.9GHz', 'Intel Pentium Dual Core N4200 1.1GHz',\n",
       "       'Intel Core i7 6820HQ 2.7GHz', 'Intel Core i5 1.6GHz',\n",
       "       'Intel Core M 1.1GHz', 'Intel Xeon E3-1505M V6 3GHz',\n",
       "       'AMD A8-Series 7410 2.2GHz', 'Intel Core i5 7200U 2.70GHz',\n",
       "       'Intel Atom x5-Z8550 1.44GHz', 'Intel Core i7 7820HK 2.9GHz',\n",
       "       'Intel Xeon E3-1535M v5 2.9GHz', 'AMD A10-Series A10-9620P 2.5GHz',\n",
       "       'Intel Celeron Dual Core N3350 2GHz', 'Intel Core i7 2.8GHz',\n",
       "       'AMD A9-Series 9420 2.9GHz',\n",
       "       'Intel Celeron Dual Core N3350 2.0GHz',\n",
       "       'Intel Core i7 7560U 2.4GHz',\n",
       "       'Intel Celeron Quad Core N3160 1.6GHz',\n",
       "       'Intel Celeron Quad Core N3710 1.6GHz',\n",
       "       'Intel Atom X5-Z8350 1.44GHz', 'Intel Core M 6Y75 1.2GHz',\n",
       "       'AMD Ryzen 1600 3.2GHz', 'Intel Core i7 2.7GHz',\n",
       "       'Intel Celeron Quad Core N3450 1.1GHz', 'Intel Core i7 2.2GHz',\n",
       "       'Intel Core i5 1.3GHz', 'Intel Core i7 2.9GHz',\n",
       "       'Intel Core i5 7200U 2.50GHz', 'AMD E-Series E2-9000e 1.5GHz',\n",
       "       'Intel Core i5 7Y57 1.2GHz', 'Intel Core M 7Y30 1.0GHz',\n",
       "       'Intel Core i7 7660U 2.5GHz', 'AMD A12-Series 9720P 2.7GHz',\n",
       "       'Intel Core i5 2.9GHz', 'Intel Xeon E3-1535M v6 3.1GHz',\n",
       "       'Intel Core i5 6260U 1.8GHz', 'AMD FX 9830P 3GHz',\n",
       "       'AMD E-Series 9000e 1.5GHz', 'Intel Core i7 8650U 1.9GHz',\n",
       "       'Intel Core M 1.2GHz', 'Intel Core i5 2.3GHz',\n",
       "       'Intel Atom Z8350 1.92GHz', 'Intel Core i5 7500U 2.7GHz',\n",
       "       'Intel Core M M3-6Y30 0.9GHz',\n",
       "       'Intel Celeron Dual Core 3205U 1.5GHz',\n",
       "       'Intel Pentium Quad Core N3700 1.6GHz', 'Intel Core i5 2.0GHz',\n",
       "       'AMD E-Series 7110 1.8GHz', 'AMD A6-Series 7310 2GHz'],\n",
       "      dtype=object)"
      ]
     },
     "execution_count": 19,
     "metadata": {},
     "output_type": "execute_result"
    }
   ],
   "source": [
    "train['Cpu'].unique()"
   ]
  },
  {
   "cell_type": "code",
   "execution_count": 20,
   "metadata": {},
   "outputs": [
    {
     "data": {
      "text/plain": [
       "array([2. , 0. , 1. , 0.5, 0.4, 3. , 6. , 0.7, 0.9])"
      ]
     },
     "execution_count": 20,
     "metadata": {},
     "output_type": "execute_result"
    }
   ],
   "source": [
    "train['Cpu power'] = train['Cpu']\n",
    "train['Cpu power'] = train['Cpu power'].str[-6:-4]\n",
    "train['Cpu power'] = train['Cpu power'].astype(float, errors = 'ignore')\n",
    "train['Cpu power'] = pd.to_numeric(train['Cpu power'], errors='coerce')\n",
    "train['Cpu power'].fillna(method='ffill', inplace=True)\n",
    "train['Cpu power'].unique()"
   ]
  },
  {
   "cell_type": "code",
   "execution_count": 21,
   "metadata": {},
   "outputs": [
    {
     "data": {
      "text/plain": [
       "array([0, 1])"
      ]
     },
     "execution_count": 21,
     "metadata": {},
     "output_type": "execute_result"
    }
   ],
   "source": [
    "train['Intel Core i3'] = train['Cpu']\n",
    "train['Intel Core i3'] = train['Intel Core i3'].str.contains('i3')\n",
    "train['Intel Core i3'] = train['Intel Core i3'].astype(int)\n",
    "train['Intel Core i3'].unique()"
   ]
  },
  {
   "cell_type": "code",
   "execution_count": 22,
   "metadata": {},
   "outputs": [
    {
     "data": {
      "text/plain": [
       "array([0, 1])"
      ]
     },
     "execution_count": 22,
     "metadata": {},
     "output_type": "execute_result"
    }
   ],
   "source": [
    "train['Intel Core i5'] = train['Cpu']\n",
    "train['Intel Core i5'] = train['Intel Core i5'].str.contains('i5')\n",
    "train['Intel Core i5'] = train['Intel Core i5'].astype(int)\n",
    "train['Intel Core i5'].unique()"
   ]
  },
  {
   "cell_type": "code",
   "execution_count": 23,
   "metadata": {},
   "outputs": [
    {
     "data": {
      "text/plain": [
       "array([1, 0])"
      ]
     },
     "execution_count": 23,
     "metadata": {},
     "output_type": "execute_result"
    }
   ],
   "source": [
    "train['Intel Core i7'] = train['Cpu']\n",
    "train['Intel Core i7'] = train['Intel Core i7'].str.contains('i7')\n",
    "train['Intel Core i7'] = train['Intel Core i7'].astype(int)\n",
    "train['Intel Core i7'].unique()"
   ]
  },
  {
   "cell_type": "code",
   "execution_count": 24,
   "metadata": {},
   "outputs": [
    {
     "data": {
      "text/plain": [
       "array([0, 1])"
      ]
     },
     "execution_count": 24,
     "metadata": {},
     "output_type": "execute_result"
    }
   ],
   "source": [
    "train['Intel Celeron Dual Core'] = train['Cpu']\n",
    "train['Intel Celeron Dual Core'] = train['Intel Celeron Dual Core'].str.contains('Intel Celeron Dual Core')\n",
    "train['Intel Celeron Dual Core'] = train['Intel Celeron Dual Core'].astype(int)\n",
    "train['Intel Celeron Dual Core'].unique()"
   ]
  },
  {
   "cell_type": "code",
   "execution_count": 25,
   "metadata": {},
   "outputs": [
    {
     "data": {
      "text/plain": [
       "array([0, 1])"
      ]
     },
     "execution_count": 25,
     "metadata": {},
     "output_type": "execute_result"
    }
   ],
   "source": [
    "train['Intel Pentium Quad Core'] = train['Cpu']\n",
    "train['Intel Pentium Quad Core'] = train['Intel Pentium Quad Core'].str.contains('Intel Pentium Quad Core')\n",
    "train['Intel Pentium Quad Core'] = train['Intel Pentium Quad Core'].astype(int)\n",
    "train['Intel Pentium Quad Core'].unique()"
   ]
  },
  {
   "cell_type": "code",
   "execution_count": 26,
   "metadata": {},
   "outputs": [
    {
     "data": {
      "text/plain": [
       "array([0, 1])"
      ]
     },
     "execution_count": 26,
     "metadata": {},
     "output_type": "execute_result"
    }
   ],
   "source": [
    "train['A4'] = train['Cpu']\n",
    "train['A4'] = train['A4'].str.contains('A4')\n",
    "train['A4'] = train['A4'].astype(int)\n",
    "train['A4'].unique()"
   ]
  },
  {
   "cell_type": "code",
   "execution_count": 27,
   "metadata": {},
   "outputs": [
    {
     "data": {
      "text/plain": [
       "array([0, 1])"
      ]
     },
     "execution_count": 27,
     "metadata": {},
     "output_type": "execute_result"
    }
   ],
   "source": [
    "train['A6'] = train['Cpu']\n",
    "train['A6'] = train['A6'].str.contains('A6')\n",
    "train['A6'] = train['A6'].astype(int)\n",
    "train['A6'].unique()"
   ]
  },
  {
   "cell_type": "code",
   "execution_count": 28,
   "metadata": {},
   "outputs": [
    {
     "data": {
      "text/plain": [
       "array([0, 1])"
      ]
     },
     "execution_count": 28,
     "metadata": {},
     "output_type": "execute_result"
    }
   ],
   "source": [
    "train['A8'] = train['Cpu']\n",
    "train['A8'] = train['A8'].str.contains('A8')\n",
    "train['A8'] = train['A8'].astype(int)\n",
    "train['A8'].unique() "
   ]
  },
  {
   "cell_type": "code",
   "execution_count": 29,
   "metadata": {},
   "outputs": [
    {
     "data": {
      "text/plain": [
       "array([0, 1])"
      ]
     },
     "execution_count": 29,
     "metadata": {},
     "output_type": "execute_result"
    }
   ],
   "source": [
    "train['A10'] = train['Cpu']\n",
    "train['A10'] = train['A10'].str.contains('A10')\n",
    "train['A10'] = train['A10'].astype(int)\n",
    "train['A10'].unique() "
   ]
  },
  {
   "cell_type": "code",
   "execution_count": 30,
   "metadata": {},
   "outputs": [
    {
     "data": {
      "text/plain": [
       "array([0, 1])"
      ]
     },
     "execution_count": 30,
     "metadata": {},
     "output_type": "execute_result"
    }
   ],
   "source": [
    "train['A12'] = train['Cpu']\n",
    "train['A12'] = train['A12'].str.contains('A12')\n",
    "train['A12'] = train['A12'].astype(int)\n",
    "train['A12'].unique() "
   ]
  },
  {
   "cell_type": "markdown",
   "metadata": {},
   "source": [
    "### Tranformamos la columna de GPU"
   ]
  },
  {
   "cell_type": "code",
   "execution_count": 31,
   "metadata": {},
   "outputs": [
    {
     "data": {
      "text/plain": [
       "array(['AMD Radeon R7 M445', 'Intel HD Graphics 620',\n",
       "       'Intel HD Graphics 520', 'AMD Radeon R5 M330', 'AMD Radeon RX 580',\n",
       "       'Nvidia GeForce GTX 1060', 'Intel Iris Plus Graphics 640',\n",
       "       'Nvidia GeForce GTX 1050', 'Intel HD Graphics 500',\n",
       "       'AMD Radeon R7 M365X', 'Intel UHD Graphics 620', 'AMD Radeon 520',\n",
       "       'Nvidia GeForce 920M', 'AMD Radeon R7 M440', 'AMD Radeon RX 550',\n",
       "       'Nvidia GeForce 930M', 'Nvidia GeForce GTX 960M',\n",
       "       'Nvidia GeForce GTX 1050 Ti', 'Intel HD Graphics 630',\n",
       "       'AMD Radeon R9 M385', 'AMD Radeon R4', 'Nvidia GeForce GTX 1070',\n",
       "       'Intel HD Graphics 615', 'Intel HD Graphics 400',\n",
       "       'Intel HD Graphics 405', 'Intel HD Graphics',\n",
       "       'Nvidia GeForce 930MX ', 'Nvidia GeForce MX150',\n",
       "       'Nvidia GeForce 150MX', 'Nvidia GeForce GTX 965M',\n",
       "       'AMD Radeon R5 M315', 'Intel HD Graphics 505',\n",
       "       'Nvidia GeForce 940MX', 'AMD Radeon R5', 'Nvidia GeForce GTX 980 ',\n",
       "       'Nvidia GeForce 920MX', 'AMD Radeon R7 M460', 'AMD Radeon R3',\n",
       "       'Nvidia Quadro M1000M', 'AMD Radeon R5 M430',\n",
       "       'Intel HD Graphics 515', 'Nvidia GeForce GTX 1080',\n",
       "       'AMD Radeon 530', 'Nvidia GeForce GT 940MX',\n",
       "       'AMD Radeon R7 Graphics', 'Nvidia GeForce GTX 960',\n",
       "       'Nvidia Quadro M1200', 'AMD Radeon R7 M360',\n",
       "       'Intel HD Graphics 510', 'AMD Radeon R5 M420',\n",
       "       'AMD Radeon R4 Graphics', 'Nvidia GeForce 930MX',\n",
       "       'AMD FirePro W4190M', 'Intel HD Graphics 6000',\n",
       "       'Nvidia GeForce 920MX ', 'AMD Radeon R2 Graphics',\n",
       "       'Nvidia Quadro M500M', 'Nvidia GeForce GTX 940M', 'AMD R17M-M1-70',\n",
       "       'Nvidia GeForce 960M', 'Nvidia GeForce GTX 1050M',\n",
       "       'AMD Radeon R5 M420X', 'Nvidia GeForce GTX 940MX',\n",
       "       'Nvidia GeForce GTX 980M', 'Nvidia Quadro M620', 'AMD Radeon 540',\n",
       "       'Nvidia GeForce MX130', 'Nvidia Quadro M2200',\n",
       "       'Nvidia GeForce 920', 'Nvidia Quadro M520M',\n",
       "       'Nvidia Quadro M2000M', 'AMD FirePro W4190M ', 'AMD R4 Graphics',\n",
       "       'AMD Radeon Pro 555', 'Nvidia GeForce GTX 1070M',\n",
       "       'Nvidia GeForce GTX 970M', 'Nvidia Quadro M620M',\n",
       "       'Nvidia GeForce GTX 960<U+039C>', 'Intel HD Graphics 620 ',\n",
       "       'AMD Radeon Pro 455', 'Nvidia GeForce 940M',\n",
       "       'Nvidia GeForce GTX 1050Ti', 'Intel Iris Pro Graphics',\n",
       "       'Intel HD Graphics 5300', 'AMD Radeon Pro 560', 'AMD Radeon R2',\n",
       "       'Nvidia Quadro M2200M', 'AMD Radeon RX 540',\n",
       "       'Nvidia GeForce GTX1060', 'Intel Iris Graphics 550',\n",
       "       'Intel HD Graphics 540', 'AMD Radeon RX 560', 'AMD Radeon R5 430',\n",
       "       'AMD Radeon R7', 'Intel Graphics 620', 'Nvidia GeForce GTX 950M',\n",
       "       'Nvidia Quadro M3000M', 'Nvidia GeForce GTX1050 Ti',\n",
       "       'Intel Iris Graphics 540', 'Nvidia GeForce GTX 930MX'],\n",
       "      dtype=object)"
      ]
     },
     "execution_count": 31,
     "metadata": {},
     "output_type": "execute_result"
    }
   ],
   "source": [
    "train.Gpu.unique()"
   ]
  },
  {
   "cell_type": "code",
   "execution_count": 32,
   "metadata": {},
   "outputs": [],
   "source": [
    "train['AMD Radeon'] = train['Gpu']\n",
    "train['AMD Radeon'] = train['AMD Radeon'].str.contains('AMD Radeon')\n",
    "train['AMD Radeon'] = train['AMD Radeon'].astype(int)\n",
    "\n",
    "train['Nvidia GeForce'] = train['Gpu']\n",
    "train['Nvidia GeForce'] = train['Nvidia GeForce'].str.contains('Nvidia GeForce')\n",
    "train['Nvidia GeForce'] = train['Nvidia GeForce'].astype(int)\n",
    "\n",
    "train['Nvidia Quadro'] = train['Gpu']\n",
    "train['Nvidia Quadro'] = train['Nvidia Quadro'].str.contains('')\n",
    "train['Nvidia Quadro'] = train['Nvidia Quadro'].astype(int)\n",
    "\n",
    "train['Intel HD Graphics'] = train['Gpu']\n",
    "train['Intel HD Graphics'] = train['Intel HD Graphics'].str.contains('')\n",
    "train['Intel HD Graphics'] = train['Intel HD Graphics'].astype(int)\n",
    "\n",
    "train['AMD FirePro'] = train['Gpu']\n",
    "train['AMD FirePro'] = train['AMD FirePro'].str.contains('AMD FirePro')\n",
    "train['AMD FirePro'] = train['AMD FirePro'].astype(int)\n",
    "\n",
    "train['Intel Iris Graphics'] = train['Gpu']\n",
    "train['Intel Iris Graphics'] = train['Intel Iris Graphics'].str.contains('Intel Iris Graphics')\n",
    "train['Intel Iris Graphics'] = train['Intel Iris Graphics'].astype(int)"
   ]
  },
  {
   "cell_type": "markdown",
   "metadata": {},
   "source": [
    "## Dataset tratado:"
   ]
  },
  {
   "cell_type": "code",
   "execution_count": 33,
   "metadata": {},
   "outputs": [
    {
     "data": {
      "text/html": [
       "<div>\n",
       "<style scoped>\n",
       "    .dataframe tbody tr th:only-of-type {\n",
       "        vertical-align: middle;\n",
       "    }\n",
       "\n",
       "    .dataframe tbody tr th {\n",
       "        vertical-align: top;\n",
       "    }\n",
       "\n",
       "    .dataframe thead th {\n",
       "        text-align: right;\n",
       "    }\n",
       "</style>\n",
       "<table border=\"1\" class=\"dataframe\">\n",
       "  <thead>\n",
       "    <tr style=\"text-align: right;\">\n",
       "      <th></th>\n",
       "      <th>id</th>\n",
       "      <th>Company</th>\n",
       "      <th>Product</th>\n",
       "      <th>TypeName</th>\n",
       "      <th>Inches</th>\n",
       "      <th>ScreenResolution</th>\n",
       "      <th>Cpu</th>\n",
       "      <th>Ram</th>\n",
       "      <th>Memory</th>\n",
       "      <th>Gpu</th>\n",
       "      <th>OpSys</th>\n",
       "      <th>Weight</th>\n",
       "      <th>Price_euros</th>\n",
       "      <th>2 in 1 Convertible</th>\n",
       "      <th>Gaming</th>\n",
       "      <th>Netbook</th>\n",
       "      <th>Notebook</th>\n",
       "      <th>Ultrabook</th>\n",
       "      <th>Workstation</th>\n",
       "      <th>Touchscreen</th>\n",
       "      <th>High_resolucion</th>\n",
       "      <th>Chrome OS</th>\n",
       "      <th>Linux</th>\n",
       "      <th>Mac OS X</th>\n",
       "      <th>No OS</th>\n",
       "      <th>Windows 10</th>\n",
       "      <th>Windows 10 S</th>\n",
       "      <th>Windows 7</th>\n",
       "      <th>macOS</th>\n",
       "      <th>Cpu power</th>\n",
       "      <th>Intel Core i3</th>\n",
       "      <th>Intel Core i5</th>\n",
       "      <th>Intel Core i7</th>\n",
       "      <th>Intel Celeron Dual Core</th>\n",
       "      <th>Intel Pentium Quad Core</th>\n",
       "      <th>A4</th>\n",
       "      <th>A6</th>\n",
       "      <th>A8</th>\n",
       "      <th>A10</th>\n",
       "      <th>A12</th>\n",
       "      <th>AMD Radeon</th>\n",
       "      <th>Nvidia GeForce</th>\n",
       "      <th>Nvidia Quadro</th>\n",
       "      <th>Intel HD Graphics</th>\n",
       "      <th>AMD FirePro</th>\n",
       "      <th>Intel Iris Graphics</th>\n",
       "    </tr>\n",
       "  </thead>\n",
       "  <tbody>\n",
       "    <tr>\n",
       "      <th>0</th>\n",
       "      <td>852</td>\n",
       "      <td>Dell</td>\n",
       "      <td>Inspiron 5767</td>\n",
       "      <td>Notebook</td>\n",
       "      <td>17.3</td>\n",
       "      <td>Full HD 1920x1080</td>\n",
       "      <td>Intel Core i7 7500U 2.7GHz</td>\n",
       "      <td>8</td>\n",
       "      <td>1000</td>\n",
       "      <td>AMD Radeon R7 M445</td>\n",
       "      <td>Linux</td>\n",
       "      <td>2.83</td>\n",
       "      <td>865.0</td>\n",
       "      <td>0</td>\n",
       "      <td>0</td>\n",
       "      <td>0</td>\n",
       "      <td>1</td>\n",
       "      <td>0</td>\n",
       "      <td>0</td>\n",
       "      <td>0</td>\n",
       "      <td>1</td>\n",
       "      <td>0</td>\n",
       "      <td>1</td>\n",
       "      <td>0</td>\n",
       "      <td>0</td>\n",
       "      <td>0</td>\n",
       "      <td>0</td>\n",
       "      <td>0</td>\n",
       "      <td>0</td>\n",
       "      <td>2.0</td>\n",
       "      <td>0</td>\n",
       "      <td>0</td>\n",
       "      <td>1</td>\n",
       "      <td>0</td>\n",
       "      <td>0</td>\n",
       "      <td>0</td>\n",
       "      <td>0</td>\n",
       "      <td>0</td>\n",
       "      <td>0</td>\n",
       "      <td>0</td>\n",
       "      <td>1</td>\n",
       "      <td>0</td>\n",
       "      <td>1</td>\n",
       "      <td>1</td>\n",
       "      <td>0</td>\n",
       "      <td>0</td>\n",
       "    </tr>\n",
       "    <tr>\n",
       "      <th>1</th>\n",
       "      <td>414</td>\n",
       "      <td>Asus</td>\n",
       "      <td>ZenBook Flip</td>\n",
       "      <td>2 in 1 Convertible</td>\n",
       "      <td>13.3</td>\n",
       "      <td>IPS Panel Full HD / Touchscreen 1920x1080</td>\n",
       "      <td>Intel Core i5 7200U 2.5GHz</td>\n",
       "      <td>8</td>\n",
       "      <td>256</td>\n",
       "      <td>Intel HD Graphics 620</td>\n",
       "      <td>Windows 10</td>\n",
       "      <td>1.27</td>\n",
       "      <td>928.0</td>\n",
       "      <td>1</td>\n",
       "      <td>0</td>\n",
       "      <td>0</td>\n",
       "      <td>0</td>\n",
       "      <td>0</td>\n",
       "      <td>0</td>\n",
       "      <td>1</td>\n",
       "      <td>1</td>\n",
       "      <td>0</td>\n",
       "      <td>0</td>\n",
       "      <td>0</td>\n",
       "      <td>0</td>\n",
       "      <td>1</td>\n",
       "      <td>0</td>\n",
       "      <td>0</td>\n",
       "      <td>0</td>\n",
       "      <td>2.0</td>\n",
       "      <td>0</td>\n",
       "      <td>1</td>\n",
       "      <td>0</td>\n",
       "      <td>0</td>\n",
       "      <td>0</td>\n",
       "      <td>0</td>\n",
       "      <td>0</td>\n",
       "      <td>0</td>\n",
       "      <td>0</td>\n",
       "      <td>0</td>\n",
       "      <td>0</td>\n",
       "      <td>0</td>\n",
       "      <td>1</td>\n",
       "      <td>1</td>\n",
       "      <td>0</td>\n",
       "      <td>0</td>\n",
       "    </tr>\n",
       "    <tr>\n",
       "      <th>2</th>\n",
       "      <td>283</td>\n",
       "      <td>Lenovo</td>\n",
       "      <td>Ideapad 320-15IKBN</td>\n",
       "      <td>Notebook</td>\n",
       "      <td>15.6</td>\n",
       "      <td>Full HD 1920x1080</td>\n",
       "      <td>Intel Core i5 7200U 2.5GHz</td>\n",
       "      <td>6</td>\n",
       "      <td>256</td>\n",
       "      <td>Intel HD Graphics 620</td>\n",
       "      <td>Windows 10</td>\n",
       "      <td>2.20</td>\n",
       "      <td>579.0</td>\n",
       "      <td>0</td>\n",
       "      <td>0</td>\n",
       "      <td>0</td>\n",
       "      <td>1</td>\n",
       "      <td>0</td>\n",
       "      <td>0</td>\n",
       "      <td>0</td>\n",
       "      <td>1</td>\n",
       "      <td>0</td>\n",
       "      <td>0</td>\n",
       "      <td>0</td>\n",
       "      <td>0</td>\n",
       "      <td>1</td>\n",
       "      <td>0</td>\n",
       "      <td>0</td>\n",
       "      <td>0</td>\n",
       "      <td>2.0</td>\n",
       "      <td>0</td>\n",
       "      <td>1</td>\n",
       "      <td>0</td>\n",
       "      <td>0</td>\n",
       "      <td>0</td>\n",
       "      <td>0</td>\n",
       "      <td>0</td>\n",
       "      <td>0</td>\n",
       "      <td>0</td>\n",
       "      <td>0</td>\n",
       "      <td>0</td>\n",
       "      <td>0</td>\n",
       "      <td>1</td>\n",
       "      <td>1</td>\n",
       "      <td>0</td>\n",
       "      <td>0</td>\n",
       "    </tr>\n",
       "    <tr>\n",
       "      <th>3</th>\n",
       "      <td>669</td>\n",
       "      <td>Acer</td>\n",
       "      <td>Aspire 3</td>\n",
       "      <td>Notebook</td>\n",
       "      <td>15.6</td>\n",
       "      <td>1366x768</td>\n",
       "      <td>Intel Core i3 6006U 2GHz</td>\n",
       "      <td>4</td>\n",
       "      <td>128</td>\n",
       "      <td>Intel HD Graphics 520</td>\n",
       "      <td>Linux</td>\n",
       "      <td>2.10</td>\n",
       "      <td>412.0</td>\n",
       "      <td>0</td>\n",
       "      <td>0</td>\n",
       "      <td>0</td>\n",
       "      <td>1</td>\n",
       "      <td>0</td>\n",
       "      <td>0</td>\n",
       "      <td>0</td>\n",
       "      <td>0</td>\n",
       "      <td>0</td>\n",
       "      <td>1</td>\n",
       "      <td>0</td>\n",
       "      <td>0</td>\n",
       "      <td>0</td>\n",
       "      <td>0</td>\n",
       "      <td>0</td>\n",
       "      <td>0</td>\n",
       "      <td>2.0</td>\n",
       "      <td>1</td>\n",
       "      <td>0</td>\n",
       "      <td>0</td>\n",
       "      <td>0</td>\n",
       "      <td>0</td>\n",
       "      <td>0</td>\n",
       "      <td>0</td>\n",
       "      <td>0</td>\n",
       "      <td>0</td>\n",
       "      <td>0</td>\n",
       "      <td>0</td>\n",
       "      <td>0</td>\n",
       "      <td>1</td>\n",
       "      <td>1</td>\n",
       "      <td>0</td>\n",
       "      <td>0</td>\n",
       "    </tr>\n",
       "    <tr>\n",
       "      <th>4</th>\n",
       "      <td>1287</td>\n",
       "      <td>HP</td>\n",
       "      <td>15-AC110nv (i7-6500U/6GB/1TB/Radeon</td>\n",
       "      <td>Notebook</td>\n",
       "      <td>15.6</td>\n",
       "      <td>1366x768</td>\n",
       "      <td>Intel Core i7 6500U 2.5GHz</td>\n",
       "      <td>6</td>\n",
       "      <td>1000</td>\n",
       "      <td>AMD Radeon R5 M330</td>\n",
       "      <td>Windows 10</td>\n",
       "      <td>2.19</td>\n",
       "      <td>764.0</td>\n",
       "      <td>0</td>\n",
       "      <td>0</td>\n",
       "      <td>0</td>\n",
       "      <td>1</td>\n",
       "      <td>0</td>\n",
       "      <td>0</td>\n",
       "      <td>0</td>\n",
       "      <td>0</td>\n",
       "      <td>0</td>\n",
       "      <td>0</td>\n",
       "      <td>0</td>\n",
       "      <td>0</td>\n",
       "      <td>1</td>\n",
       "      <td>0</td>\n",
       "      <td>0</td>\n",
       "      <td>0</td>\n",
       "      <td>2.0</td>\n",
       "      <td>0</td>\n",
       "      <td>0</td>\n",
       "      <td>1</td>\n",
       "      <td>0</td>\n",
       "      <td>0</td>\n",
       "      <td>0</td>\n",
       "      <td>0</td>\n",
       "      <td>0</td>\n",
       "      <td>0</td>\n",
       "      <td>0</td>\n",
       "      <td>1</td>\n",
       "      <td>0</td>\n",
       "      <td>1</td>\n",
       "      <td>1</td>\n",
       "      <td>0</td>\n",
       "      <td>0</td>\n",
       "    </tr>\n",
       "    <tr>\n",
       "      <th>...</th>\n",
       "      <td>...</td>\n",
       "      <td>...</td>\n",
       "      <td>...</td>\n",
       "      <td>...</td>\n",
       "      <td>...</td>\n",
       "      <td>...</td>\n",
       "      <td>...</td>\n",
       "      <td>...</td>\n",
       "      <td>...</td>\n",
       "      <td>...</td>\n",
       "      <td>...</td>\n",
       "      <td>...</td>\n",
       "      <td>...</td>\n",
       "      <td>...</td>\n",
       "      <td>...</td>\n",
       "      <td>...</td>\n",
       "      <td>...</td>\n",
       "      <td>...</td>\n",
       "      <td>...</td>\n",
       "      <td>...</td>\n",
       "      <td>...</td>\n",
       "      <td>...</td>\n",
       "      <td>...</td>\n",
       "      <td>...</td>\n",
       "      <td>...</td>\n",
       "      <td>...</td>\n",
       "      <td>...</td>\n",
       "      <td>...</td>\n",
       "      <td>...</td>\n",
       "      <td>...</td>\n",
       "      <td>...</td>\n",
       "      <td>...</td>\n",
       "      <td>...</td>\n",
       "      <td>...</td>\n",
       "      <td>...</td>\n",
       "      <td>...</td>\n",
       "      <td>...</td>\n",
       "      <td>...</td>\n",
       "      <td>...</td>\n",
       "      <td>...</td>\n",
       "      <td>...</td>\n",
       "      <td>...</td>\n",
       "      <td>...</td>\n",
       "      <td>...</td>\n",
       "      <td>...</td>\n",
       "      <td>...</td>\n",
       "    </tr>\n",
       "    <tr>\n",
       "      <th>907</th>\n",
       "      <td>256</td>\n",
       "      <td>HP</td>\n",
       "      <td>15-BW094nd (A6-9220/8GB/128GB/W10)</td>\n",
       "      <td>Notebook</td>\n",
       "      <td>15.6</td>\n",
       "      <td>1366x768</td>\n",
       "      <td>AMD A6-Series A6-9220 2.5GHz</td>\n",
       "      <td>8</td>\n",
       "      <td>128</td>\n",
       "      <td>AMD Radeon R4 Graphics</td>\n",
       "      <td>Windows 10</td>\n",
       "      <td>1.91</td>\n",
       "      <td>445.9</td>\n",
       "      <td>0</td>\n",
       "      <td>0</td>\n",
       "      <td>0</td>\n",
       "      <td>1</td>\n",
       "      <td>0</td>\n",
       "      <td>0</td>\n",
       "      <td>0</td>\n",
       "      <td>0</td>\n",
       "      <td>0</td>\n",
       "      <td>0</td>\n",
       "      <td>0</td>\n",
       "      <td>0</td>\n",
       "      <td>1</td>\n",
       "      <td>0</td>\n",
       "      <td>0</td>\n",
       "      <td>0</td>\n",
       "      <td>2.0</td>\n",
       "      <td>0</td>\n",
       "      <td>0</td>\n",
       "      <td>0</td>\n",
       "      <td>0</td>\n",
       "      <td>0</td>\n",
       "      <td>0</td>\n",
       "      <td>1</td>\n",
       "      <td>0</td>\n",
       "      <td>0</td>\n",
       "      <td>0</td>\n",
       "      <td>1</td>\n",
       "      <td>0</td>\n",
       "      <td>1</td>\n",
       "      <td>1</td>\n",
       "      <td>0</td>\n",
       "      <td>0</td>\n",
       "    </tr>\n",
       "    <tr>\n",
       "      <th>908</th>\n",
       "      <td>794</td>\n",
       "      <td>Apple</td>\n",
       "      <td>MacBook 12\"</td>\n",
       "      <td>Ultrabook</td>\n",
       "      <td>12.0</td>\n",
       "      <td>IPS Panel Retina Display 2304x1440</td>\n",
       "      <td>Intel Core M 1.2GHz</td>\n",
       "      <td>8</td>\n",
       "      <td>512</td>\n",
       "      <td>Intel HD Graphics 5300</td>\n",
       "      <td>Mac OS X</td>\n",
       "      <td>0.92</td>\n",
       "      <td>1165.0</td>\n",
       "      <td>0</td>\n",
       "      <td>0</td>\n",
       "      <td>0</td>\n",
       "      <td>0</td>\n",
       "      <td>1</td>\n",
       "      <td>0</td>\n",
       "      <td>0</td>\n",
       "      <td>0</td>\n",
       "      <td>0</td>\n",
       "      <td>0</td>\n",
       "      <td>1</td>\n",
       "      <td>0</td>\n",
       "      <td>0</td>\n",
       "      <td>0</td>\n",
       "      <td>0</td>\n",
       "      <td>0</td>\n",
       "      <td>1.0</td>\n",
       "      <td>0</td>\n",
       "      <td>0</td>\n",
       "      <td>0</td>\n",
       "      <td>0</td>\n",
       "      <td>0</td>\n",
       "      <td>0</td>\n",
       "      <td>0</td>\n",
       "      <td>0</td>\n",
       "      <td>0</td>\n",
       "      <td>0</td>\n",
       "      <td>0</td>\n",
       "      <td>0</td>\n",
       "      <td>1</td>\n",
       "      <td>1</td>\n",
       "      <td>0</td>\n",
       "      <td>0</td>\n",
       "    </tr>\n",
       "    <tr>\n",
       "      <th>909</th>\n",
       "      <td>1057</td>\n",
       "      <td>Acer</td>\n",
       "      <td>Aspire ES1-523</td>\n",
       "      <td>Notebook</td>\n",
       "      <td>15.6</td>\n",
       "      <td>1366x768</td>\n",
       "      <td>AMD A8-Series 7410 2.2GHz</td>\n",
       "      <td>8</td>\n",
       "      <td>1000</td>\n",
       "      <td>AMD Radeon R5</td>\n",
       "      <td>Windows 10</td>\n",
       "      <td>2.40</td>\n",
       "      <td>449.0</td>\n",
       "      <td>0</td>\n",
       "      <td>0</td>\n",
       "      <td>0</td>\n",
       "      <td>1</td>\n",
       "      <td>0</td>\n",
       "      <td>0</td>\n",
       "      <td>0</td>\n",
       "      <td>0</td>\n",
       "      <td>0</td>\n",
       "      <td>0</td>\n",
       "      <td>0</td>\n",
       "      <td>0</td>\n",
       "      <td>1</td>\n",
       "      <td>0</td>\n",
       "      <td>0</td>\n",
       "      <td>0</td>\n",
       "      <td>2.0</td>\n",
       "      <td>0</td>\n",
       "      <td>0</td>\n",
       "      <td>0</td>\n",
       "      <td>0</td>\n",
       "      <td>0</td>\n",
       "      <td>0</td>\n",
       "      <td>0</td>\n",
       "      <td>1</td>\n",
       "      <td>0</td>\n",
       "      <td>0</td>\n",
       "      <td>1</td>\n",
       "      <td>0</td>\n",
       "      <td>1</td>\n",
       "      <td>1</td>\n",
       "      <td>0</td>\n",
       "      <td>0</td>\n",
       "    </tr>\n",
       "    <tr>\n",
       "      <th>910</th>\n",
       "      <td>1061</td>\n",
       "      <td>Asus</td>\n",
       "      <td>Rog G752VL-GC088D</td>\n",
       "      <td>Gaming</td>\n",
       "      <td>17.3</td>\n",
       "      <td>IPS Panel Full HD 1920x1080</td>\n",
       "      <td>Intel Core i7 6700HQ 2.6GHz</td>\n",
       "      <td>16</td>\n",
       "      <td>1000</td>\n",
       "      <td>Nvidia GeForce GTX 965M</td>\n",
       "      <td>No OS</td>\n",
       "      <td>4.00</td>\n",
       "      <td>998.0</td>\n",
       "      <td>0</td>\n",
       "      <td>1</td>\n",
       "      <td>0</td>\n",
       "      <td>0</td>\n",
       "      <td>0</td>\n",
       "      <td>0</td>\n",
       "      <td>0</td>\n",
       "      <td>1</td>\n",
       "      <td>0</td>\n",
       "      <td>0</td>\n",
       "      <td>0</td>\n",
       "      <td>1</td>\n",
       "      <td>0</td>\n",
       "      <td>0</td>\n",
       "      <td>0</td>\n",
       "      <td>0</td>\n",
       "      <td>2.0</td>\n",
       "      <td>0</td>\n",
       "      <td>0</td>\n",
       "      <td>1</td>\n",
       "      <td>0</td>\n",
       "      <td>0</td>\n",
       "      <td>0</td>\n",
       "      <td>0</td>\n",
       "      <td>0</td>\n",
       "      <td>0</td>\n",
       "      <td>0</td>\n",
       "      <td>0</td>\n",
       "      <td>1</td>\n",
       "      <td>1</td>\n",
       "      <td>1</td>\n",
       "      <td>0</td>\n",
       "      <td>0</td>\n",
       "    </tr>\n",
       "    <tr>\n",
       "      <th>911</th>\n",
       "      <td>373</td>\n",
       "      <td>Lenovo</td>\n",
       "      <td>IdeaPad 110-17ACL</td>\n",
       "      <td>Notebook</td>\n",
       "      <td>17.3</td>\n",
       "      <td>1600x900</td>\n",
       "      <td>AMD A8-Series 7410 2.2GHz</td>\n",
       "      <td>4</td>\n",
       "      <td>128</td>\n",
       "      <td>AMD Radeon R5</td>\n",
       "      <td>Windows 10</td>\n",
       "      <td>2.60</td>\n",
       "      <td>489.0</td>\n",
       "      <td>0</td>\n",
       "      <td>0</td>\n",
       "      <td>0</td>\n",
       "      <td>1</td>\n",
       "      <td>0</td>\n",
       "      <td>0</td>\n",
       "      <td>0</td>\n",
       "      <td>0</td>\n",
       "      <td>0</td>\n",
       "      <td>0</td>\n",
       "      <td>0</td>\n",
       "      <td>0</td>\n",
       "      <td>1</td>\n",
       "      <td>0</td>\n",
       "      <td>0</td>\n",
       "      <td>0</td>\n",
       "      <td>2.0</td>\n",
       "      <td>0</td>\n",
       "      <td>0</td>\n",
       "      <td>0</td>\n",
       "      <td>0</td>\n",
       "      <td>0</td>\n",
       "      <td>0</td>\n",
       "      <td>0</td>\n",
       "      <td>1</td>\n",
       "      <td>0</td>\n",
       "      <td>0</td>\n",
       "      <td>1</td>\n",
       "      <td>0</td>\n",
       "      <td>1</td>\n",
       "      <td>1</td>\n",
       "      <td>0</td>\n",
       "      <td>0</td>\n",
       "    </tr>\n",
       "  </tbody>\n",
       "</table>\n",
       "<p>912 rows × 46 columns</p>\n",
       "</div>"
      ],
      "text/plain": [
       "       id Company                              Product            TypeName  \\\n",
       "0     852    Dell                        Inspiron 5767            Notebook   \n",
       "1     414    Asus                         ZenBook Flip  2 in 1 Convertible   \n",
       "2     283  Lenovo                   Ideapad 320-15IKBN            Notebook   \n",
       "3     669    Acer                             Aspire 3            Notebook   \n",
       "4    1287      HP  15-AC110nv (i7-6500U/6GB/1TB/Radeon            Notebook   \n",
       "..    ...     ...                                  ...                 ...   \n",
       "907   256      HP   15-BW094nd (A6-9220/8GB/128GB/W10)            Notebook   \n",
       "908   794   Apple                          MacBook 12\"           Ultrabook   \n",
       "909  1057    Acer                       Aspire ES1-523            Notebook   \n",
       "910  1061    Asus                    Rog G752VL-GC088D              Gaming   \n",
       "911   373  Lenovo                    IdeaPad 110-17ACL            Notebook   \n",
       "\n",
       "     Inches                           ScreenResolution  \\\n",
       "0      17.3                          Full HD 1920x1080   \n",
       "1      13.3  IPS Panel Full HD / Touchscreen 1920x1080   \n",
       "2      15.6                          Full HD 1920x1080   \n",
       "3      15.6                                   1366x768   \n",
       "4      15.6                                   1366x768   \n",
       "..      ...                                        ...   \n",
       "907    15.6                                   1366x768   \n",
       "908    12.0         IPS Panel Retina Display 2304x1440   \n",
       "909    15.6                                   1366x768   \n",
       "910    17.3                IPS Panel Full HD 1920x1080   \n",
       "911    17.3                                   1600x900   \n",
       "\n",
       "                              Cpu  Ram  Memory                      Gpu  \\\n",
       "0      Intel Core i7 7500U 2.7GHz    8    1000       AMD Radeon R7 M445   \n",
       "1      Intel Core i5 7200U 2.5GHz    8     256    Intel HD Graphics 620   \n",
       "2      Intel Core i5 7200U 2.5GHz    6     256    Intel HD Graphics 620   \n",
       "3        Intel Core i3 6006U 2GHz    4     128    Intel HD Graphics 520   \n",
       "4      Intel Core i7 6500U 2.5GHz    6    1000       AMD Radeon R5 M330   \n",
       "..                            ...  ...     ...                      ...   \n",
       "907  AMD A6-Series A6-9220 2.5GHz    8     128   AMD Radeon R4 Graphics   \n",
       "908           Intel Core M 1.2GHz    8     512   Intel HD Graphics 5300   \n",
       "909     AMD A8-Series 7410 2.2GHz    8    1000            AMD Radeon R5   \n",
       "910   Intel Core i7 6700HQ 2.6GHz   16    1000  Nvidia GeForce GTX 965M   \n",
       "911     AMD A8-Series 7410 2.2GHz    4     128            AMD Radeon R5   \n",
       "\n",
       "          OpSys  Weight  Price_euros  2 in 1 Convertible  Gaming  Netbook  \\\n",
       "0         Linux    2.83        865.0                   0       0        0   \n",
       "1    Windows 10    1.27        928.0                   1       0        0   \n",
       "2    Windows 10    2.20        579.0                   0       0        0   \n",
       "3         Linux    2.10        412.0                   0       0        0   \n",
       "4    Windows 10    2.19        764.0                   0       0        0   \n",
       "..          ...     ...          ...                 ...     ...      ...   \n",
       "907  Windows 10    1.91        445.9                   0       0        0   \n",
       "908    Mac OS X    0.92       1165.0                   0       0        0   \n",
       "909  Windows 10    2.40        449.0                   0       0        0   \n",
       "910       No OS    4.00        998.0                   0       1        0   \n",
       "911  Windows 10    2.60        489.0                   0       0        0   \n",
       "\n",
       "     Notebook  Ultrabook  Workstation  Touchscreen  High_resolucion  \\\n",
       "0           1          0            0            0                1   \n",
       "1           0          0            0            1                1   \n",
       "2           1          0            0            0                1   \n",
       "3           1          0            0            0                0   \n",
       "4           1          0            0            0                0   \n",
       "..        ...        ...          ...          ...              ...   \n",
       "907         1          0            0            0                0   \n",
       "908         0          1            0            0                0   \n",
       "909         1          0            0            0                0   \n",
       "910         0          0            0            0                1   \n",
       "911         1          0            0            0                0   \n",
       "\n",
       "     Chrome OS  Linux  Mac OS X  No OS  Windows 10  Windows 10 S  Windows 7  \\\n",
       "0            0      1         0      0           0             0          0   \n",
       "1            0      0         0      0           1             0          0   \n",
       "2            0      0         0      0           1             0          0   \n",
       "3            0      1         0      0           0             0          0   \n",
       "4            0      0         0      0           1             0          0   \n",
       "..         ...    ...       ...    ...         ...           ...        ...   \n",
       "907          0      0         0      0           1             0          0   \n",
       "908          0      0         1      0           0             0          0   \n",
       "909          0      0         0      0           1             0          0   \n",
       "910          0      0         0      1           0             0          0   \n",
       "911          0      0         0      0           1             0          0   \n",
       "\n",
       "     macOS  Cpu power  Intel Core i3  Intel Core i5  Intel Core i7  \\\n",
       "0        0        2.0              0              0              1   \n",
       "1        0        2.0              0              1              0   \n",
       "2        0        2.0              0              1              0   \n",
       "3        0        2.0              1              0              0   \n",
       "4        0        2.0              0              0              1   \n",
       "..     ...        ...            ...            ...            ...   \n",
       "907      0        2.0              0              0              0   \n",
       "908      0        1.0              0              0              0   \n",
       "909      0        2.0              0              0              0   \n",
       "910      0        2.0              0              0              1   \n",
       "911      0        2.0              0              0              0   \n",
       "\n",
       "     Intel Celeron Dual Core  Intel Pentium Quad Core  A4  A6  A8  A10  A12  \\\n",
       "0                          0                        0   0   0   0    0    0   \n",
       "1                          0                        0   0   0   0    0    0   \n",
       "2                          0                        0   0   0   0    0    0   \n",
       "3                          0                        0   0   0   0    0    0   \n",
       "4                          0                        0   0   0   0    0    0   \n",
       "..                       ...                      ...  ..  ..  ..  ...  ...   \n",
       "907                        0                        0   0   1   0    0    0   \n",
       "908                        0                        0   0   0   0    0    0   \n",
       "909                        0                        0   0   0   1    0    0   \n",
       "910                        0                        0   0   0   0    0    0   \n",
       "911                        0                        0   0   0   1    0    0   \n",
       "\n",
       "     AMD Radeon  Nvidia GeForce  Nvidia Quadro  Intel HD Graphics  \\\n",
       "0             1               0              1                  1   \n",
       "1             0               0              1                  1   \n",
       "2             0               0              1                  1   \n",
       "3             0               0              1                  1   \n",
       "4             1               0              1                  1   \n",
       "..          ...             ...            ...                ...   \n",
       "907           1               0              1                  1   \n",
       "908           0               0              1                  1   \n",
       "909           1               0              1                  1   \n",
       "910           0               1              1                  1   \n",
       "911           1               0              1                  1   \n",
       "\n",
       "     AMD FirePro  Intel Iris Graphics  \n",
       "0              0                    0  \n",
       "1              0                    0  \n",
       "2              0                    0  \n",
       "3              0                    0  \n",
       "4              0                    0  \n",
       "..           ...                  ...  \n",
       "907            0                    0  \n",
       "908            0                    0  \n",
       "909            0                    0  \n",
       "910            0                    0  \n",
       "911            0                    0  \n",
       "\n",
       "[912 rows x 46 columns]"
      ]
     },
     "execution_count": 33,
     "metadata": {},
     "output_type": "execute_result"
    }
   ],
   "source": [
    "pd.options.display.max_columns = None\n",
    "train"
   ]
  },
  {
   "cell_type": "code",
   "execution_count": 34,
   "metadata": {},
   "outputs": [],
   "source": [
    "# Guardamos el dataset tratado\n",
    "train.to_csv('../data/processed/train_tratado.csv')"
   ]
  },
  {
   "cell_type": "markdown",
   "metadata": {},
   "source": [
    "## Aplicamos las mismas transformaciones hechas en train a test"
   ]
  },
  {
   "cell_type": "code",
   "execution_count": 37,
   "metadata": {},
   "outputs": [],
   "source": [
    "test = pd.read_csv('../data/raw/test.csv')"
   ]
  },
  {
   "cell_type": "code",
   "execution_count": 38,
   "metadata": {},
   "outputs": [],
   "source": [
    "new_type_name = pd.get_dummies(test['TypeName'])\n",
    "test = pd.merge(test, new_type_name, left_index=True, right_index=True)"
   ]
  },
  {
   "cell_type": "code",
   "execution_count": 39,
   "metadata": {},
   "outputs": [],
   "source": [
    "test['Ram'] = [re.compile('GB').sub('', x) for x in test['Ram']]\n",
    "test['Ram'] = test['Ram'].astype(int)"
   ]
  },
  {
   "cell_type": "code",
   "execution_count": 40,
   "metadata": {},
   "outputs": [],
   "source": [
    "test['Memory'] = [re.compile('GB SSD').sub('', x) for x in test['Memory']]\n",
    "test['Memory'] = [re.compile('GB HDD').sub('', x) for x in test['Memory']]\n",
    "test['Memory'] = [re.compile('GB Flash Storage').sub('', x) for x in test['Memory']]\n",
    "test['Memory'] = [re.compile('GB Hybrid').sub('', x) for x in test['Memory']]\n",
    "test['Memory'] = [re.compile('TB HDD').sub('000', x) for x in test['Memory']]\n",
    "test['Memory'] = [re.compile('TB SSD').sub('000', x) for x in test['Memory']]\n",
    "test['Memory'] = [re.compile('TB Hybrid').sub('000', x) for x in test['Memory']]\n",
    "\n",
    "test['Memory'] = test['Memory'].replace('256 +  1000', '1256')\n",
    "test['Memory'] = test['Memory'].replace('128 +  1000', '1128')\n",
    "test['Memory'] = test['Memory'].replace('512 +  1000', '1512')\n",
    "test['Memory'] = test['Memory'].replace('256 +  2000', '2256')\n",
    "test['Memory'] = test['Memory'].replace('1.0000', '1000')\n",
    "test['Memory'] = test['Memory'].replace('128 +  2000', '2128')\n",
    "\n",
    "test['Memory'] = test['Memory'].replace('64 +  1000', '1064')\n",
    "test['Memory'] = test['Memory'].replace('1000 +  1000', '2000')\n",
    "test['Memory'] = test['Memory'].replace('512 +  1.0000', '1512')\n",
    "test['Memory'] = test['Memory'].replace('512 +  2000', '2512')\n",
    "test['Memory'] = test['Memory'].replace('512 +  256', '768')\n",
    "test['Memory'] = test['Memory'].replace('512 +  512', '1024')\n",
    "test['Memory'] = test['Memory'].replace('256 +  1.0000', '1256')\n",
    "test['Memory'] = test['Memory'].replace('256 +  256', '512')\n",
    "\n",
    "\n",
    "test['Memory'] = test['Memory'].replace('256 +  500', '756')\n",
    "test['Memory'] = test['Memory'].astype(int)"
   ]
  },
  {
   "cell_type": "code",
   "execution_count": 41,
   "metadata": {},
   "outputs": [],
   "source": [
    "test['Touchscreen'] = test['ScreenResolution']\n",
    "test['Touchscreen'] = test['Touchscreen'].str.contains('Touchscreen')\n",
    "test['Touchscreen'] = test['Touchscreen'].astype(int)"
   ]
  },
  {
   "cell_type": "code",
   "execution_count": 42,
   "metadata": {},
   "outputs": [],
   "source": [
    "test['High_resolucion'] = test['ScreenResolution']\n",
    "test['High_resolucion'] = test['High_resolucion'].str.contains('HD' or 'Retina' or 'IPS')\n",
    "test['High_resolucion'] = test['High_resolucion'].astype(int)"
   ]
  },
  {
   "cell_type": "code",
   "execution_count": 43,
   "metadata": {},
   "outputs": [],
   "source": [
    "Operative_system = pd.get_dummies(test['OpSys'])\n",
    "test = pd.merge(test, Operative_system, left_index=True, right_index=True)"
   ]
  },
  {
   "cell_type": "code",
   "execution_count": 44,
   "metadata": {},
   "outputs": [],
   "source": [
    "test['Weight'] = [re.compile('kg').sub('', x) for x in test['Weight']]\n",
    "test['Weight'] = test['Weight'].astype(float)"
   ]
  },
  {
   "cell_type": "code",
   "execution_count": 45,
   "metadata": {},
   "outputs": [
    {
     "data": {
      "text/plain": [
       "array([2. , 1. , 0.4, 0. , 0.6, 6. , 3. ])"
      ]
     },
     "execution_count": 45,
     "metadata": {},
     "output_type": "execute_result"
    }
   ],
   "source": [
    "test['Cpu power'] = test['Cpu']\n",
    "test['Cpu power'] = test['Cpu power'].str[-6:-4]\n",
    "test['Cpu power'] = test['Cpu power'].astype(float, errors = 'ignore')\n",
    "test['Cpu power'] = pd.to_numeric(test['Cpu power'], errors='coerce')\n",
    "test['Cpu power'].fillna(method='ffill', inplace=True)\n",
    "test['Cpu power'].unique()"
   ]
  },
  {
   "cell_type": "code",
   "execution_count": 46,
   "metadata": {},
   "outputs": [],
   "source": [
    "test['Intel Core i3'] = test['Cpu']\n",
    "test['Intel Core i3'] = test['Intel Core i3'].str.contains('i3')\n",
    "test['Intel Core i3'] = test['Intel Core i3'].astype(int)\n",
    "\n",
    "test['Intel Core i5'] = test['Cpu']\n",
    "test['Intel Core i5'] = test['Intel Core i5'].str.contains('i5')\n",
    "test['Intel Core i5'] = test['Intel Core i5'].astype(int)\n",
    "\n",
    "test['Intel Core i7'] = test['Cpu']\n",
    "test['Intel Core i7'] = test['Intel Core i7'].str.contains('i7')\n",
    "test['Intel Core i7'] = test['Intel Core i7'].astype(int)\n",
    "\n",
    "test['Intel Celeron Dual Core'] = test['Cpu']\n",
    "test['Intel Celeron Dual Core'] = test['Intel Celeron Dual Core'].str.contains('Intel Celeron Dual Core')\n",
    "test['Intel Celeron Dual Core'] = test['Intel Celeron Dual Core'].astype(int)\n",
    "\n",
    "test['Intel Pentium Quad Core'] = test['Cpu']\n",
    "test['Intel Pentium Quad Core'] = test['Intel Pentium Quad Core'].str.contains('Intel Pentium Quad Core')\n",
    "test['Intel Pentium Quad Core'] = test['Intel Pentium Quad Core'].astype(int)\n",
    "\n",
    "test['A4'] = test['Cpu']\n",
    "test['A4'] = test['A4'].str.contains('A4')\n",
    "test['A4'] = test['A4'].astype(int)\n",
    "\n",
    "test['A6'] = test['Cpu']\n",
    "test['A6'] = test['A6'].str.contains('A6')\n",
    "test['A6'] = test['A6'].astype(int)\n",
    "\n",
    "test['A8'] = test['Cpu']\n",
    "test['A8'] = test['A8'].str.contains('A8')\n",
    "test['A8'] = test['A8'].astype(int)\n",
    "\n",
    "test['A10'] = test['Cpu']\n",
    "test['A10'] = test['A10'].str.contains('A10')\n",
    "test['A10'] = test['A10'].astype(int)\n",
    "\n",
    "test['A12'] = test['Cpu']\n",
    "test['A12'] = test['A12'].str.contains('A12')\n",
    "test['A12'] = test['A12'].astype(int)"
   ]
  },
  {
   "cell_type": "code",
   "execution_count": 47,
   "metadata": {},
   "outputs": [],
   "source": [
    "test['AMD Radeon'] = test['Gpu']\n",
    "test['AMD Radeon'] = test['AMD Radeon'].str.contains('AMD Radeon')\n",
    "test['AMD Radeon'] = test['AMD Radeon'].astype(int)\n",
    "\n",
    "test['Nvidia GeForce'] = test['Gpu']\n",
    "test['Nvidia GeForce'] = test['Nvidia GeForce'].str.contains('Nvidia GeForce')\n",
    "test['Nvidia GeForce'] = test['Nvidia GeForce'].astype(int)\n",
    "\n",
    "test['Nvidia Quadro'] = test['Gpu']\n",
    "test['Nvidia Quadro'] = test['Nvidia Quadro'].str.contains('')\n",
    "test['Nvidia Quadro'] = test['Nvidia Quadro'].astype(int)\n",
    "\n",
    "test['Intel HD Graphics'] = test['Gpu']\n",
    "test['Intel HD Graphics'] = test['Intel HD Graphics'].str.contains('')\n",
    "test['Intel HD Graphics'] = test['Intel HD Graphics'].astype(int)\n",
    "\n",
    "test['AMD FirePro'] = test['Gpu']\n",
    "test['AMD FirePro'] = test['AMD FirePro'].str.contains('AMD FirePro')\n",
    "test['AMD FirePro'] = test['AMD FirePro'].astype(int)\n",
    "\n",
    "test['Intel Iris Graphics'] = test['Gpu']\n",
    "test['Intel Iris Graphics'] = test['Intel Iris Graphics'].str.contains('Intel Iris Graphics')\n",
    "test['Intel Iris Graphics'] = test['Intel Iris Graphics'].astype(int)"
   ]
  },
  {
   "cell_type": "code",
   "execution_count": 48,
   "metadata": {},
   "outputs": [],
   "source": [
    "train.to_csv('../data/processed/test_tratado.csv')"
   ]
  },
  {
   "cell_type": "code",
   "execution_count": 49,
   "metadata": {},
   "outputs": [
    {
     "name": "stdout",
     "output_type": "stream",
     "text": [
      "<class 'pandas.core.frame.DataFrame'>\n",
      "RangeIndex: 391 entries, 0 to 390\n",
      "Data columns (total 46 columns):\n",
      " #   Column                   Non-Null Count  Dtype  \n",
      "---  ------                   --------------  -----  \n",
      " 0   id                       391 non-null    int64  \n",
      " 1   Company                  391 non-null    object \n",
      " 2   Product                  391 non-null    object \n",
      " 3   TypeName                 391 non-null    object \n",
      " 4   Inches                   391 non-null    float64\n",
      " 5   ScreenResolution         391 non-null    object \n",
      " 6   Cpu                      391 non-null    object \n",
      " 7   Ram                      391 non-null    int32  \n",
      " 8   Memory                   391 non-null    int32  \n",
      " 9   Gpu                      391 non-null    object \n",
      " 10  OpSys                    391 non-null    object \n",
      " 11  Weight                   391 non-null    float64\n",
      " 12  2 in 1 Convertible       391 non-null    uint8  \n",
      " 13  Gaming                   391 non-null    uint8  \n",
      " 14  Netbook                  391 non-null    uint8  \n",
      " 15  Notebook                 391 non-null    uint8  \n",
      " 16  Ultrabook                391 non-null    uint8  \n",
      " 17  Workstation              391 non-null    uint8  \n",
      " 18  Touchscreen              391 non-null    int32  \n",
      " 19  High_resolucion          391 non-null    int32  \n",
      " 20  Android                  391 non-null    uint8  \n",
      " 21  Chrome OS                391 non-null    uint8  \n",
      " 22  Linux                    391 non-null    uint8  \n",
      " 23  Mac OS X                 391 non-null    uint8  \n",
      " 24  No OS                    391 non-null    uint8  \n",
      " 25  Windows 10               391 non-null    uint8  \n",
      " 26  Windows 10 S             391 non-null    uint8  \n",
      " 27  Windows 7                391 non-null    uint8  \n",
      " 28  macOS                    391 non-null    uint8  \n",
      " 29  Cpu power                391 non-null    float64\n",
      " 30  Intel Core i3            391 non-null    int32  \n",
      " 31  Intel Core i5            391 non-null    int32  \n",
      " 32  Intel Core i7            391 non-null    int32  \n",
      " 33  Intel Celeron Dual Core  391 non-null    int32  \n",
      " 34  Intel Pentium Quad Core  391 non-null    int32  \n",
      " 35  A4                       391 non-null    int32  \n",
      " 36  A6                       391 non-null    int32  \n",
      " 37  A8                       391 non-null    int32  \n",
      " 38  A10                      391 non-null    int32  \n",
      " 39  A12                      391 non-null    int32  \n",
      " 40  AMD Radeon               391 non-null    int32  \n",
      " 41  Nvidia GeForce           391 non-null    int32  \n",
      " 42  Nvidia Quadro            391 non-null    int32  \n",
      " 43  Intel HD Graphics        391 non-null    int32  \n",
      " 44  AMD FirePro              391 non-null    int32  \n",
      " 45  Intel Iris Graphics      391 non-null    int32  \n",
      "dtypes: float64(3), int32(20), int64(1), object(7), uint8(15)\n",
      "memory usage: 70.0+ KB\n"
     ]
    }
   ],
   "source": [
    "test.info()"
   ]
  }
 ],
 "metadata": {
  "interpreter": {
   "hash": "4a9361c6053ddebb4a3cbafa186ad24281b12153eb8dd7165b81196dc981e63a"
  },
  "kernelspec": {
   "display_name": "Python 3.7.4 64-bit",
   "language": "python",
   "name": "python3"
  },
  "language_info": {
   "codemirror_mode": {
    "name": "ipython",
    "version": 3
   },
   "file_extension": ".py",
   "mimetype": "text/x-python",
   "name": "python",
   "nbconvert_exporter": "python",
   "pygments_lexer": "ipython3",
   "version": "3.7.4"
  },
  "orig_nbformat": 4
 },
 "nbformat": 4,
 "nbformat_minor": 2
}
