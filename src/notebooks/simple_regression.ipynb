{
 "cells": [
  {
   "cell_type": "code",
   "execution_count": 1,
   "metadata": {},
   "outputs": [],
   "source": [
    "import pandas as pd\n",
    "import numpy as np\n",
    "import matplotlib.pyplot as plt\n",
    "import seaborn as sns"
   ]
  },
  {
   "cell_type": "code",
   "execution_count": 2,
   "metadata": {},
   "outputs": [
    {
     "data": {
      "text/plain": [
       "Index(['Unnamed: 0', 'id', 'Company', 'Product', 'TypeName', 'Inches',\n",
       "       'ScreenResolution', 'Cpu', 'Ram', 'Memory', 'Gpu', 'OpSys', 'Weight',\n",
       "       'Price_euros', '2 in 1 Convertible', 'Gaming', 'Netbook', 'Notebook',\n",
       "       'Ultrabook', 'Workstation', 'Touchscreen', 'High_resolucion',\n",
       "       'Chrome OS', 'Linux', 'Mac OS X', 'No OS', 'Windows 10', 'Windows 10 S',\n",
       "       'Windows 7', 'macOS', 'Intel Core i3', 'Intel Core i5', 'Intel Core i7',\n",
       "       'Intel Celeron Dual Core', 'Intel Pentium Quad Core', 'A4', 'A6', 'A8',\n",
       "       'A10', 'A12'],\n",
       "      dtype='object')"
      ]
     },
     "execution_count": 2,
     "metadata": {},
     "output_type": "execute_result"
    }
   ],
   "source": [
    "# Importamos los datos\n",
    "\n",
    "train = pd.read_csv(r'datos/train_tratado.csv')\n",
    "train.columns"
   ]
  },
  {
   "cell_type": "markdown",
   "metadata": {},
   "source": [
    "## Preparamos los datos"
   ]
  },
  {
   "cell_type": "code",
   "execution_count": 3,
   "metadata": {},
   "outputs": [],
   "source": [
    "# Nombramos a 'X' y a 'y'. Quitamos las variables que no son numéricas\n",
    "\n",
    "X = train[['Inches', 'Ram', 'Memory', 'Weight',\n",
    "       '2 in 1 Convertible', 'Gaming', 'Netbook', 'Notebook',\n",
    "       'Ultrabook', 'Workstation', 'Touchscreen', 'High_resolucion',\n",
    "       'Chrome OS', 'Linux', 'Mac OS X', 'No OS', 'Windows 10', 'Windows 10 S',\n",
    "       'Windows 7', 'macOS', 'Intel Core i3', 'Intel Core i5', 'Intel Core i7',\n",
    "       'Intel Celeron Dual Core', 'Intel Pentium Quad Core', 'A4', 'A6', 'A8',\n",
    "       'A10', 'A12']]\n",
    "\n",
    "y = train['Price_euros']"
   ]
  },
  {
   "cell_type": "code",
   "execution_count": 4,
   "metadata": {},
   "outputs": [
    {
     "name": "stdout",
     "output_type": "stream",
     "text": [
      "<class 'pandas.core.frame.DataFrame'>\n",
      "RangeIndex: 912 entries, 0 to 911\n",
      "Data columns (total 40 columns):\n",
      " #   Column                   Non-Null Count  Dtype  \n",
      "---  ------                   --------------  -----  \n",
      " 0   Unnamed: 0               912 non-null    int64  \n",
      " 1   id                       912 non-null    int64  \n",
      " 2   Company                  912 non-null    object \n",
      " 3   Product                  912 non-null    object \n",
      " 4   TypeName                 912 non-null    object \n",
      " 5   Inches                   912 non-null    float64\n",
      " 6   ScreenResolution         912 non-null    object \n",
      " 7   Cpu                      912 non-null    object \n",
      " 8   Ram                      912 non-null    int64  \n",
      " 9   Memory                   912 non-null    int64  \n",
      " 10  Gpu                      912 non-null    object \n",
      " 11  OpSys                    912 non-null    object \n",
      " 12  Weight                   912 non-null    float64\n",
      " 13  Price_euros              912 non-null    float64\n",
      " 14  2 in 1 Convertible       912 non-null    int64  \n",
      " 15  Gaming                   912 non-null    int64  \n",
      " 16  Netbook                  912 non-null    int64  \n",
      " 17  Notebook                 912 non-null    int64  \n",
      " 18  Ultrabook                912 non-null    int64  \n",
      " 19  Workstation              912 non-null    int64  \n",
      " 20  Touchscreen              912 non-null    int64  \n",
      " 21  High_resolucion          912 non-null    int64  \n",
      " 22  Chrome OS                912 non-null    int64  \n",
      " 23  Linux                    912 non-null    int64  \n",
      " 24  Mac OS X                 912 non-null    int64  \n",
      " 25  No OS                    912 non-null    int64  \n",
      " 26  Windows 10               912 non-null    int64  \n",
      " 27  Windows 10 S             912 non-null    int64  \n",
      " 28  Windows 7                912 non-null    int64  \n",
      " 29  macOS                    912 non-null    int64  \n",
      " 30  Intel Core i3            912 non-null    int64  \n",
      " 31  Intel Core i5            912 non-null    int64  \n",
      " 32  Intel Core i7            912 non-null    int64  \n",
      " 33  Intel Celeron Dual Core  912 non-null    int64  \n",
      " 34  Intel Pentium Quad Core  912 non-null    int64  \n",
      " 35  A4                       912 non-null    int64  \n",
      " 36  A6                       912 non-null    int64  \n",
      " 37  A8                       912 non-null    int64  \n",
      " 38  A10                      912 non-null    int64  \n",
      " 39  A12                      912 non-null    int64  \n",
      "dtypes: float64(3), int64(30), object(7)\n",
      "memory usage: 285.1+ KB\n"
     ]
    }
   ],
   "source": [
    "train.info()"
   ]
  },
  {
   "cell_type": "code",
   "execution_count": 5,
   "metadata": {},
   "outputs": [
    {
     "name": "stdout",
     "output_type": "stream",
     "text": [
      "(729, 30)\n",
      "(183, 30)\n",
      "(729,)\n",
      "(183,)\n"
     ]
    }
   ],
   "source": [
    "# Separamos X_train y X_test\n",
    "\n",
    "from sklearn.model_selection import train_test_split\n",
    "\n",
    "X_train, X_test, y_train, y_test = train_test_split(X,\n",
    "                                                    y,\n",
    "                                                    test_size=0.20,\n",
    "                                                    random_state=0)\n",
    "\n",
    "print(X_train.shape)\n",
    "print(X_test.shape)\n",
    "print(y_train.shape)\n",
    "print(y_test.shape)"
   ]
  },
  {
   "cell_type": "markdown",
   "metadata": {},
   "source": [
    "## Creamos un modelo"
   ]
  },
  {
   "cell_type": "code",
   "execution_count": 6,
   "metadata": {},
   "outputs": [
    {
     "data": {
      "text/plain": [
       "LinearRegression()"
      ]
     },
     "execution_count": 6,
     "metadata": {},
     "output_type": "execute_result"
    }
   ],
   "source": [
    "from sklearn.linear_model import LinearRegression\n",
    "\n",
    "#creating LinearRegression Object\n",
    "model = LinearRegression()\n",
    "\n",
    "#Training the Data Model\n",
    "model.fit(X_train, y_train)"
   ]
  },
  {
   "cell_type": "markdown",
   "metadata": {},
   "source": [
    "## **Predictions from our Model**"
   ]
  },
  {
   "cell_type": "code",
   "execution_count": 7,
   "metadata": {},
   "outputs": [
    {
     "name": "stderr",
     "output_type": "stream",
     "text": [
      "C:\\Users\\gonza\\AppData\\Local\\Programs\\Python\\Python37\\lib\\site-packages\\seaborn\\_decorators.py:43: FutureWarning: Pass the following variables as keyword args: x, y. From version 0.12, the only valid positional argument will be `data`, and passing other arguments without an explicit keyword will result in an error or misinterpretation.\n",
      "  FutureWarning\n"
     ]
    },
    {
     "data": {
      "image/png": "[encoded data removed]",
      "text/plain": [
       "<Figure size 720x720 with 1 Axes>"
      ]
     },
     "metadata": {
      "needs_background": "light"
     },
     "output_type": "display_data"
    }
   ],
   "source": [
    "plt.figure(figsize=(10,10))\n",
    "sns.set_style('white')\n",
    "sns.regplot(y_test, model.predict(X_test), line_kws={\"color\":\"green\",\"alpha\":0.7,\"lw\":5});"
   ]
  },
  {
   "cell_type": "markdown",
   "metadata": {},
   "source": [
    "## Evaluación del modelo"
   ]
  },
  {
   "cell_type": "code",
   "execution_count": 8,
   "metadata": {},
   "outputs": [
    {
     "name": "stdout",
     "output_type": "stream",
     "text": [
      "Train MAE: 266.09339362844696\n",
      "Test MAE: 266.06475461600843\n",
      "\n",
      "Train MAPE: 0.25920196117022587\n",
      "Test MAPE: 0.28012732524375633\n",
      "\n",
      "Train MSE: 150874.95508686014\n",
      "Test MSE: 145164.85001478292\n",
      "\n",
      "Train RMSE: 388.4262543738002\n",
      "Test RMSE: 381.00505247933773\n",
      "\n",
      "Train score 0.7075299629877951\n",
      "Test score 0.7051586206607003\n"
     ]
    }
   ],
   "source": [
    "from sklearn import metrics\n",
    "\n",
    "# Calculamos los errores\n",
    "print('Train MAE:', metrics.mean_absolute_error(y_train, model.predict(X_train)))\n",
    "print('Test MAE:', metrics.mean_absolute_error(y_test, model.predict(X_test)))\n",
    "print(\"\")\n",
    "print('Train MAPE:', metrics.mean_absolute_percentage_error(y_train, model.predict(X_train)))\n",
    "print('Test MAPE:', metrics.mean_absolute_percentage_error(y_test, model.predict(X_test)))\n",
    "print(\"\")\n",
    "print('Train MSE:', metrics.mean_squared_error(y_train, model.predict(X_train)))\n",
    "print('Test MSE:', metrics.mean_squared_error(y_test, model.predict(X_test)))\n",
    "print(\"\")\n",
    "print('Train RMSE:', np.sqrt(metrics.mean_squared_error(y_train, model.predict(X_train))))\n",
    "print('Test RMSE:', np.sqrt(metrics.mean_squared_error(y_test, model.predict(X_test))))\n",
    "print(\"\")\n",
    "print('Train score', model.score(X_train, y_train))\n",
    "print('Test score', model.score(X_test, y_test))"
   ]
  },
  {
   "cell_type": "markdown",
   "metadata": {},
   "source": [
    "## Feature importance\n",
    "The main difference between __Linear Regression__ and __Tree-based methods__ is that Linear Regression is parametric: it can be writen with a mathematical closed expression depending on some parameters. Therefore, the coefficients are the parameters of the model, and should not be taken as any kind of importances unless the data is normalized.\n",
    "\n"
   ]
  },
  {
   "cell_type": "code",
   "execution_count": 9,
   "metadata": {},
   "outputs": [
    {
     "data": {
      "text/html": [
       "<div>\n",
       "<style scoped>\n",
       "    .dataframe tbody tr th:only-of-type {\n",
       "        vertical-align: middle;\n",
       "    }\n",
       "\n",
       "    .dataframe tbody tr th {\n",
       "        vertical-align: top;\n",
       "    }\n",
       "\n",
       "    .dataframe thead th {\n",
       "        text-align: right;\n",
       "    }\n",
       "</style>\n",
       "<table border=\"1\" class=\"dataframe\">\n",
       "  <thead>\n",
       "    <tr style=\"text-align: right;\">\n",
       "      <th></th>\n",
       "      <th>coefficient</th>\n",
       "    </tr>\n",
       "  </thead>\n",
       "  <tbody>\n",
       "    <tr>\n",
       "      <th>Workstation</th>\n",
       "      <td>625.292953</td>\n",
       "    </tr>\n",
       "    <tr>\n",
       "      <th>Windows 7</th>\n",
       "      <td>358.896169</td>\n",
       "    </tr>\n",
       "    <tr>\n",
       "      <th>Intel Core i7</th>\n",
       "      <td>261.366701</td>\n",
       "    </tr>\n",
       "    <tr>\n",
       "      <th>Touchscreen</th>\n",
       "      <td>220.912046</td>\n",
       "    </tr>\n",
       "    <tr>\n",
       "      <th>macOS</th>\n",
       "      <td>210.962704</td>\n",
       "    </tr>\n",
       "    <tr>\n",
       "      <th>Intel Core i5</th>\n",
       "      <td>145.420425</td>\n",
       "    </tr>\n",
       "    <tr>\n",
       "      <th>Weight</th>\n",
       "      <td>140.629567</td>\n",
       "    </tr>\n",
       "    <tr>\n",
       "      <th>Ultrabook</th>\n",
       "      <td>79.766370</td>\n",
       "    </tr>\n",
       "    <tr>\n",
       "      <th>Ram</th>\n",
       "      <td>74.184719</td>\n",
       "    </tr>\n",
       "    <tr>\n",
       "      <th>Mac OS X</th>\n",
       "      <td>34.289608</td>\n",
       "    </tr>\n",
       "    <tr>\n",
       "      <th>Windows 10</th>\n",
       "      <td>15.295288</td>\n",
       "    </tr>\n",
       "    <tr>\n",
       "      <th>High_resolucion</th>\n",
       "      <td>1.023300</td>\n",
       "    </tr>\n",
       "    <tr>\n",
       "      <th>Intel Core i3</th>\n",
       "      <td>0.915366</td>\n",
       "    </tr>\n",
       "    <tr>\n",
       "      <th>Memory</th>\n",
       "      <td>-0.113462</td>\n",
       "    </tr>\n",
       "    <tr>\n",
       "      <th>A10</th>\n",
       "      <td>-6.949612</td>\n",
       "    </tr>\n",
       "    <tr>\n",
       "      <th>Gaming</th>\n",
       "      <td>-31.467876</td>\n",
       "    </tr>\n",
       "    <tr>\n",
       "      <th>Inches</th>\n",
       "      <td>-49.210666</td>\n",
       "    </tr>\n",
       "    <tr>\n",
       "      <th>Windows 10 S</th>\n",
       "      <td>-51.349169</td>\n",
       "    </tr>\n",
       "    <tr>\n",
       "      <th>Intel Pentium Quad Core</th>\n",
       "      <td>-86.326118</td>\n",
       "    </tr>\n",
       "    <tr>\n",
       "      <th>Chrome OS</th>\n",
       "      <td>-135.232844</td>\n",
       "    </tr>\n",
       "    <tr>\n",
       "      <th>A6</th>\n",
       "      <td>-148.226144</td>\n",
       "    </tr>\n",
       "    <tr>\n",
       "      <th>A12</th>\n",
       "      <td>-161.252399</td>\n",
       "    </tr>\n",
       "    <tr>\n",
       "      <th>A4</th>\n",
       "      <td>-173.208409</td>\n",
       "    </tr>\n",
       "    <tr>\n",
       "      <th>Linux</th>\n",
       "      <td>-193.572386</td>\n",
       "    </tr>\n",
       "    <tr>\n",
       "      <th>Intel Celeron Dual Core</th>\n",
       "      <td>-196.110650</td>\n",
       "    </tr>\n",
       "    <tr>\n",
       "      <th>2 in 1 Convertible</th>\n",
       "      <td>-218.064326</td>\n",
       "    </tr>\n",
       "    <tr>\n",
       "      <th>Netbook</th>\n",
       "      <td>-225.644197</td>\n",
       "    </tr>\n",
       "    <tr>\n",
       "      <th>Notebook</th>\n",
       "      <td>-229.882923</td>\n",
       "    </tr>\n",
       "    <tr>\n",
       "      <th>No OS</th>\n",
       "      <td>-239.289369</td>\n",
       "    </tr>\n",
       "    <tr>\n",
       "      <th>A8</th>\n",
       "      <td>-244.722393</td>\n",
       "    </tr>\n",
       "  </tbody>\n",
       "</table>\n",
       "</div>"
      ],
      "text/plain": [
       "                         coefficient\n",
       "Workstation               625.292953\n",
       "Windows 7                 358.896169\n",
       "Intel Core i7             261.366701\n",
       "Touchscreen               220.912046\n",
       "macOS                     210.962704\n",
       "Intel Core i5             145.420425\n",
       "Weight                    140.629567\n",
       "Ultrabook                  79.766370\n",
       "Ram                        74.184719\n",
       "Mac OS X                   34.289608\n",
       "Windows 10                 15.295288\n",
       "High_resolucion             1.023300\n",
       "Intel Core i3               0.915366\n",
       "Memory                     -0.113462\n",
       "A10                        -6.949612\n",
       "Gaming                    -31.467876\n",
       "Inches                    -49.210666\n",
       "Windows 10 S              -51.349169\n",
       "Intel Pentium Quad Core   -86.326118\n",
       "Chrome OS                -135.232844\n",
       "A6                       -148.226144\n",
       "A12                      -161.252399\n",
       "A4                       -173.208409\n",
       "Linux                    -193.572386\n",
       "Intel Celeron Dual Core  -196.110650\n",
       "2 in 1 Convertible       -218.064326\n",
       "Netbook                  -225.644197\n",
       "Notebook                 -229.882923\n",
       "No OS                    -239.289369\n",
       "A8                       -244.722393"
      ]
     },
     "execution_count": 9,
     "metadata": {},
     "output_type": "execute_result"
    }
   ],
   "source": [
    "intercept = model.intercept_\n",
    "features = pd.DataFrame(model.coef_, X_train.columns, columns=['coefficient'])\n",
    "features.sort_values('coefficient', ascending=False)"
   ]
  },
  {
   "cell_type": "code",
   "execution_count": 10,
   "metadata": {},
   "outputs": [
    {
     "data": {
      "image/png": "[encoded data removed]",
      "text/plain": [
       "<Figure size 864x864 with 1 Axes>"
      ]
     },
     "metadata": {},
     "output_type": "display_data"
    }
   ],
   "source": [
    "plt.figure(figsize=(12, 12))\n",
    "features = features.sort_values('coefficient', ascending=True)\n",
    "plt.barh(features.index, features.coefficient);"
   ]
  },
  {
   "cell_type": "markdown",
   "metadata": {},
   "source": [
    "# Evaluamos con los datos del data set de tests"
   ]
  },
  {
   "cell_type": "code",
   "execution_count": 11,
   "metadata": {},
   "outputs": [],
   "source": [
    "X_pred = pd.read_csv(\"Datos/test_tratado.csv\")"
   ]
  },
  {
   "cell_type": "code",
   "execution_count": 12,
   "metadata": {},
   "outputs": [
    {
     "data": {
      "text/plain": [
       "Index(['Unnamed: 0', 'id', 'Company', 'Product', 'TypeName', 'Inches',\n",
       "       'ScreenResolution', 'Cpu', 'Ram', 'Memory', 'Gpu', 'OpSys', 'Weight',\n",
       "       '2 in 1 Convertible', 'Gaming', 'Netbook', 'Notebook', 'Ultrabook',\n",
       "       'Workstation', 'Touchscreen', 'High_resolucion', 'Android', 'Chrome OS',\n",
       "       'Linux', 'Mac OS X', 'No OS', 'Windows 10', 'Windows 10 S', 'Windows 7',\n",
       "       'macOS', 'Intel Core i3', 'Intel Core i5', 'Intel Core i7',\n",
       "       'Intel Celeron Dual Core', 'Intel Pentium Quad Core', 'A4', 'A6', 'A8',\n",
       "       'A10', 'A12'],\n",
       "      dtype='object')"
      ]
     },
     "execution_count": 12,
     "metadata": {},
     "output_type": "execute_result"
    }
   ],
   "source": [
    "X_pred.columns"
   ]
  },
  {
   "cell_type": "code",
   "execution_count": 13,
   "metadata": {},
   "outputs": [
    {
     "data": {
      "text/html": [
       "<div>\n",
       "<style scoped>\n",
       "    .dataframe tbody tr th:only-of-type {\n",
       "        vertical-align: middle;\n",
       "    }\n",
       "\n",
       "    .dataframe tbody tr th {\n",
       "        vertical-align: top;\n",
       "    }\n",
       "\n",
       "    .dataframe thead th {\n",
       "        text-align: right;\n",
       "    }\n",
       "</style>\n",
       "<table border=\"1\" class=\"dataframe\">\n",
       "  <thead>\n",
       "    <tr style=\"text-align: right;\">\n",
       "      <th></th>\n",
       "      <th>Unnamed: 0</th>\n",
       "      <th>id</th>\n",
       "      <th>Company</th>\n",
       "      <th>Product</th>\n",
       "      <th>TypeName</th>\n",
       "      <th>Inches</th>\n",
       "      <th>ScreenResolution</th>\n",
       "      <th>Cpu</th>\n",
       "      <th>Ram</th>\n",
       "      <th>Memory</th>\n",
       "      <th>...</th>\n",
       "      <th>Intel Core i3</th>\n",
       "      <th>Intel Core i5</th>\n",
       "      <th>Intel Core i7</th>\n",
       "      <th>Intel Celeron Dual Core</th>\n",
       "      <th>Intel Pentium Quad Core</th>\n",
       "      <th>A4</th>\n",
       "      <th>A6</th>\n",
       "      <th>A8</th>\n",
       "      <th>A10</th>\n",
       "      <th>A12</th>\n",
       "    </tr>\n",
       "  </thead>\n",
       "  <tbody>\n",
       "    <tr>\n",
       "      <th>0</th>\n",
       "      <td>0</td>\n",
       "      <td>1184</td>\n",
       "      <td>HP</td>\n",
       "      <td>Pavilion 15-BC000nv</td>\n",
       "      <td>Notebook</td>\n",
       "      <td>15.6</td>\n",
       "      <td>IPS Panel Full HD 1920x1080</td>\n",
       "      <td>Intel Core i7 6700HQ 2.6GHz</td>\n",
       "      <td>6</td>\n",
       "      <td>1000</td>\n",
       "      <td>...</td>\n",
       "      <td>0</td>\n",
       "      <td>0</td>\n",
       "      <td>1</td>\n",
       "      <td>0</td>\n",
       "      <td>0</td>\n",
       "      <td>0</td>\n",
       "      <td>0</td>\n",
       "      <td>0</td>\n",
       "      <td>0</td>\n",
       "      <td>0</td>\n",
       "    </tr>\n",
       "    <tr>\n",
       "      <th>1</th>\n",
       "      <td>1</td>\n",
       "      <td>815</td>\n",
       "      <td>Lenovo</td>\n",
       "      <td>Thinkpad T470s</td>\n",
       "      <td>Ultrabook</td>\n",
       "      <td>14.0</td>\n",
       "      <td>Full HD 1920x1080</td>\n",
       "      <td>Intel Core i7 7500U 2.7GHz</td>\n",
       "      <td>8</td>\n",
       "      <td>256</td>\n",
       "      <td>...</td>\n",
       "      <td>0</td>\n",
       "      <td>0</td>\n",
       "      <td>1</td>\n",
       "      <td>0</td>\n",
       "      <td>0</td>\n",
       "      <td>0</td>\n",
       "      <td>0</td>\n",
       "      <td>0</td>\n",
       "      <td>0</td>\n",
       "      <td>0</td>\n",
       "    </tr>\n",
       "    <tr>\n",
       "      <th>2</th>\n",
       "      <td>2</td>\n",
       "      <td>1244</td>\n",
       "      <td>HP</td>\n",
       "      <td>EliteBook 840</td>\n",
       "      <td>Notebook</td>\n",
       "      <td>14.0</td>\n",
       "      <td>Full HD 1920x1080</td>\n",
       "      <td>Intel Core i5 6200U 2.3GHz</td>\n",
       "      <td>4</td>\n",
       "      <td>256</td>\n",
       "      <td>...</td>\n",
       "      <td>0</td>\n",
       "      <td>1</td>\n",
       "      <td>0</td>\n",
       "      <td>0</td>\n",
       "      <td>0</td>\n",
       "      <td>0</td>\n",
       "      <td>0</td>\n",
       "      <td>0</td>\n",
       "      <td>0</td>\n",
       "      <td>0</td>\n",
       "    </tr>\n",
       "    <tr>\n",
       "      <th>3</th>\n",
       "      <td>3</td>\n",
       "      <td>1121</td>\n",
       "      <td>HP</td>\n",
       "      <td>Spectre Pro</td>\n",
       "      <td>Notebook</td>\n",
       "      <td>13.3</td>\n",
       "      <td>Full HD 1920x1080</td>\n",
       "      <td>Intel Core i5 6200U 2.3GHz</td>\n",
       "      <td>8</td>\n",
       "      <td>256</td>\n",
       "      <td>...</td>\n",
       "      <td>0</td>\n",
       "      <td>1</td>\n",
       "      <td>0</td>\n",
       "      <td>0</td>\n",
       "      <td>0</td>\n",
       "      <td>0</td>\n",
       "      <td>0</td>\n",
       "      <td>0</td>\n",
       "      <td>0</td>\n",
       "      <td>0</td>\n",
       "    </tr>\n",
       "    <tr>\n",
       "      <th>4</th>\n",
       "      <td>4</td>\n",
       "      <td>443</td>\n",
       "      <td>Lenovo</td>\n",
       "      <td>IdeaPad 320-15IAP</td>\n",
       "      <td>Notebook</td>\n",
       "      <td>15.6</td>\n",
       "      <td>Full HD 1920x1080</td>\n",
       "      <td>Intel Pentium Quad Core N4200 1.1GHz</td>\n",
       "      <td>4</td>\n",
       "      <td>128</td>\n",
       "      <td>...</td>\n",
       "      <td>0</td>\n",
       "      <td>0</td>\n",
       "      <td>0</td>\n",
       "      <td>0</td>\n",
       "      <td>1</td>\n",
       "      <td>0</td>\n",
       "      <td>0</td>\n",
       "      <td>0</td>\n",
       "      <td>0</td>\n",
       "      <td>0</td>\n",
       "    </tr>\n",
       "  </tbody>\n",
       "</table>\n",
       "<p>5 rows × 40 columns</p>\n",
       "</div>"
      ],
      "text/plain": [
       "   Unnamed: 0    id Company              Product   TypeName  Inches  \\\n",
       "0           0  1184      HP  Pavilion 15-BC000nv   Notebook    15.6   \n",
       "1           1   815  Lenovo       Thinkpad T470s  Ultrabook    14.0   \n",
       "2           2  1244      HP        EliteBook 840   Notebook    14.0   \n",
       "3           3  1121      HP          Spectre Pro   Notebook    13.3   \n",
       "4           4   443  Lenovo    IdeaPad 320-15IAP   Notebook    15.6   \n",
       "\n",
       "              ScreenResolution                                   Cpu  Ram  \\\n",
       "0  IPS Panel Full HD 1920x1080           Intel Core i7 6700HQ 2.6GHz    6   \n",
       "1            Full HD 1920x1080            Intel Core i7 7500U 2.7GHz    8   \n",
       "2            Full HD 1920x1080            Intel Core i5 6200U 2.3GHz    4   \n",
       "3            Full HD 1920x1080            Intel Core i5 6200U 2.3GHz    8   \n",
       "4            Full HD 1920x1080  Intel Pentium Quad Core N4200 1.1GHz    4   \n",
       "\n",
       "   Memory  ... Intel Core i3 Intel Core i5  Intel Core i7  \\\n",
       "0    1000  ...             0             0              1   \n",
       "1     256  ...             0             0              1   \n",
       "2     256  ...             0             1              0   \n",
       "3     256  ...             0             1              0   \n",
       "4     128  ...             0             0              0   \n",
       "\n",
       "   Intel Celeron Dual Core  Intel Pentium Quad Core  A4  A6  A8  A10  A12  \n",
       "0                        0                        0   0   0   0    0    0  \n",
       "1                        0                        0   0   0   0    0    0  \n",
       "2                        0                        0   0   0   0    0    0  \n",
       "3                        0                        0   0   0   0    0    0  \n",
       "4                        0                        1   0   0   0    0    0  \n",
       "\n",
       "[5 rows x 40 columns]"
      ]
     },
     "execution_count": 13,
     "metadata": {},
     "output_type": "execute_result"
    }
   ],
   "source": [
    "X_pred.head()"
   ]
  },
  {
   "cell_type": "code",
   "execution_count": 14,
   "metadata": {},
   "outputs": [],
   "source": [
    "X_pred_1 = X_pred[['Inches', 'Ram', 'Memory', 'Weight',\n",
    "       '2 in 1 Convertible', 'Gaming', 'Netbook', 'Notebook',\n",
    "       'Ultrabook', 'Workstation', 'Touchscreen', 'High_resolucion',\n",
    "       'Chrome OS', 'Linux', 'Mac OS X', 'No OS', 'Windows 10', 'Windows 10 S',\n",
    "       'Windows 7', 'macOS', 'Intel Core i3', 'Intel Core i5', 'Intel Core i7',\n",
    "       'Intel Celeron Dual Core', 'Intel Pentium Quad Core', 'A4', 'A6', 'A8',\n",
    "       'A10', 'A12']]"
   ]
  },
  {
   "cell_type": "code",
   "execution_count": 15,
   "metadata": {},
   "outputs": [],
   "source": [
    "predictions = model.predict(X_pred_1)\n",
    "predictions = pd.DataFrame(predictions)"
   ]
  },
  {
   "cell_type": "code",
   "execution_count": 16,
   "metadata": {},
   "outputs": [
    {
     "name": "stdout",
     "output_type": "stream",
     "text": [
      "<class 'pandas.core.frame.DataFrame'>\n",
      "RangeIndex: 391 entries, 0 to 390\n",
      "Data columns (total 1 columns):\n",
      " #   Column  Non-Null Count  Dtype  \n",
      "---  ------  --------------  -----  \n",
      " 0   0       391 non-null    float64\n",
      "dtypes: float64(1)\n",
      "memory usage: 3.2 KB\n"
     ]
    }
   ],
   "source": [
    "predictions.info()"
   ]
  },
  {
   "cell_type": "code",
   "execution_count": 17,
   "metadata": {},
   "outputs": [],
   "source": [
    "submission = pd.DataFrame(X_pred['id'].copy())\n",
    "submission['Price_euros'] = predictions[0].copy()"
   ]
  },
  {
   "cell_type": "code",
   "execution_count": 18,
   "metadata": {},
   "outputs": [
    {
     "data": {
      "text/plain": [
       "(391, 2)"
      ]
     },
     "execution_count": 18,
     "metadata": {},
     "output_type": "execute_result"
    }
   ],
   "source": [
    "submission.shape"
   ]
  },
  {
   "cell_type": "markdown",
   "metadata": {},
   "source": [
    "# Pasamos el check"
   ]
  },
  {
   "cell_type": "code",
   "execution_count": 19,
   "metadata": {},
   "outputs": [],
   "source": [
    "import urllib.request\n",
    "from PIL import Image"
   ]
  },
  {
   "cell_type": "code",
   "execution_count": 20,
   "metadata": {},
   "outputs": [],
   "source": [
    "sample = pd.read_csv(\"Datos/sample_submission.csv\")"
   ]
  },
  {
   "cell_type": "code",
   "execution_count": 21,
   "metadata": {},
   "outputs": [],
   "source": [
    "def chequeator(df_to_submit):\n",
    "    \"\"\"\n",
    "    Esta función se asegura de que tu submission tenga la forma requerida por Kaggle.\n",
    "    \n",
    "    Si es así, se guardará el dataframe en un `csv` y estará listo para subir a Kaggle.\n",
    "    \n",
    "    Si no, LEE EL MENSAJE Y HAZLE CASO.\n",
    "    \n",
    "    Si aún no:\n",
    "    - apaga tu ordenador, \n",
    "    - date una vuelta, \n",
    "    - enciendelo otra vez, \n",
    "    - abre este notebook y \n",
    "    - leelo todo de nuevo. \n",
    "    Todos nos merecemos una segunda oportunidad. También tú.\n",
    "    \"\"\"\n",
    "    if df_to_submit.shape == sample.shape:\n",
    "        if df_to_submit.columns.all() == sample.columns.all():\n",
    "            if df_to_submit.id.all() == sample.id.all():\n",
    "                print(\"You're ready to submit!\")\n",
    "                submission.to_csv(\"submission.csv\", index = False) #muy importante el index = False\n",
    "                urllib.request.urlretrieve(\"https://i.kym-cdn.com/photos/images/facebook/000/747/556/27a.jpg\", \"gfg.png\")     \n",
    "                img = Image.open(\"gfg.png\")\n",
    "                img.show()   \n",
    "            else:\n",
    "                print(\"Check the ids and try again\")\n",
    "        else:\n",
    "            print(\"Check the names of the columns and try again\")\n",
    "    else:\n",
    "        print(\"Check the number of rows and/or columns and try again\")\n",
    "        print(\"\\nMensaje secreto de Clara: No me puedo creer que después de todo este notebook hayas hecho algún cambio en las filas de `diamonds_test.csv`. Lloro.\")\n"
   ]
  },
  {
   "cell_type": "code",
   "execution_count": 251,
   "metadata": {},
   "outputs": [
    {
     "name": "stdout",
     "output_type": "stream",
     "text": [
      "You're ready to submit!\n"
     ]
    }
   ],
   "source": [
    "# chequeator(submission)"
   ]
  }
 ],
 "metadata": {
  "interpreter": {
   "hash": "c476fdca1fa146c1aa9930d737fa2969289d4717133eb1043d72ac40501f9294"
  },
  "kernelspec": {
   "display_name": "Python 3.7.4 64-bit",
   "language": "python",
   "name": "python3"
  },
  "language_info": {
   "codemirror_mode": {
    "name": "ipython",
    "version": 3
   },
   "file_extension": ".py",
   "mimetype": "text/x-python",
   "name": "python",
   "nbconvert_exporter": "python",
   "pygments_lexer": "ipython3",
   "version": "3.7.4"
  },
  "orig_nbformat": 4
 },
 "nbformat": 4,
 "nbformat_minor": 2
}
