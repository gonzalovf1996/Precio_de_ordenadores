{
 "cells": [
  {
   "cell_type": "code",
   "execution_count": 2,
   "metadata": {},
   "outputs": [],
   "source": [
    "# Tratamiento de datos\n",
    "# ==============================================================================\n",
    "import pandas as pd\n",
    "import numpy as np\n",
    "\n",
    "# Gráficos\n",
    "# ==============================================================================\n",
    "import seaborn as sns\n",
    "import matplotlib.pyplot as plt\n",
    "plt.style.use('default')"
   ]
  },
  {
   "cell_type": "markdown",
   "metadata": {},
   "source": [
    "# Random Forest"
   ]
  },
  {
   "cell_type": "code",
   "execution_count": 3,
   "metadata": {},
   "outputs": [],
   "source": [
    "# Importamos los datos\n",
    "\n",
    "data = np.load('../data/data.npz')\n",
    "X_train = data['X_train']\n",
    "X_test = data['X_test']\n",
    "y_train = data['y_train']\n",
    "y_test = data['y_test']"
   ]
  },
  {
   "cell_type": "markdown",
   "metadata": {},
   "source": [
    "# Composición del modelo"
   ]
  },
  {
   "cell_type": "code",
   "execution_count": 6,
   "metadata": {},
   "outputs": [
    {
     "data": {
      "text/plain": [
       "RandomForestRegressor()"
      ]
     },
     "execution_count": 6,
     "metadata": {},
     "output_type": "execute_result"
    }
   ],
   "source": [
    "from sklearn.ensemble import RandomForestRegressor\n",
    "\n",
    "rfc_2 = RandomForestRegressor(max_depth=2) # como antes nos ha dado overfitting en todos los casos, hago profundidad de 3 (lo podamos)\n",
    "rfc_2.fit(X_train, y_train)\n",
    "\n",
    "rfc_3 = RandomForestRegressor(max_depth=3) # como antes nos ha dado overfitting en todos los casos, hago profundidad de 3 (lo podamos)\n",
    "rfc_3.fit(X_train, y_train)\n",
    "\n",
    "rfc_5 = RandomForestRegressor(max_depth=5) # como antes nos ha dado overfitting en todos los casos, hago profundidad de 3 (lo podamos)\n",
    "rfc_5.fit(X_train, y_train)\n",
    "\n",
    "rfc_7 = RandomForestRegressor(max_depth=7) # como antes nos ha dado overfitting en todos los casos, hago profundidad de 3 (lo podamos)\n",
    "rfc_7.fit(X_train, y_train)\n",
    "\n",
    "rfc = RandomForestRegressor() # como antes nos ha dado overfitting en todos los casos, hago profundidad de 3 (lo podamos)\n",
    "rfc.fit(X_train, y_train)\n"
   ]
  },
  {
   "cell_type": "markdown",
   "metadata": {},
   "source": [
    "# Evaluación del modelo"
   ]
  },
  {
   "cell_type": "code",
   "execution_count": 7,
   "metadata": {},
   "outputs": [
    {
     "name": "stdout",
     "output_type": "stream",
     "text": [
      "para un Radom Forest de profundidad 2:\n",
      "Train RMSE: 453.46423702091107\n",
      "Test RMSE: 442.353701856771\n",
      "\n",
      "para un Radom Forest de profundidad 3:\n",
      "Train RMSE: 374.1830967646855\n",
      "Test RMSE: 402.8538021981619\n",
      "\n",
      "para un Radom Forest de profundidad 5:\n",
      "Train RMSE: 291.4210893818335\n",
      "Test RMSE: 364.94530330650895\n",
      "\n",
      "para un Radom Forest de profundidad 7:\n",
      "Train RMSE: 233.57848085031517\n",
      "Test RMSE: 329.1811530126543\n",
      "\n",
      "para un Radom Forest de profundidad no limitada:\n",
      "Train RMSE: 143.9864325353007\n",
      "Test RMSE: 326.41051197852784\n",
      "\n"
     ]
    }
   ],
   "source": [
    "from sklearn import metrics\n",
    "\n",
    "# Calculamos los errores\n",
    "print('para un Radom Forest de profundidad 2:')\n",
    "print('Train RMSE:', np.sqrt(metrics.mean_squared_error(y_train, rfc_2.predict(X_train))))\n",
    "print('Test RMSE:', np.sqrt(metrics.mean_squared_error(y_test, rfc_2.predict(X_test))))\n",
    "print(\"\")\n",
    "\n",
    "print('para un Radom Forest de profundidad 3:')\n",
    "print('Train RMSE:', np.sqrt(metrics.mean_squared_error(y_train, rfc_3.predict(X_train))))\n",
    "print('Test RMSE:', np.sqrt(metrics.mean_squared_error(y_test, rfc_3.predict(X_test))))\n",
    "print(\"\")\n",
    "\n",
    "print('para un Radom Forest de profundidad 5:')\n",
    "print('Train RMSE:', np.sqrt(metrics.mean_squared_error(y_train, rfc_5.predict(X_train))))\n",
    "print('Test RMSE:', np.sqrt(metrics.mean_squared_error(y_test, rfc_5.predict(X_test))))\n",
    "print(\"\")\n",
    "\n",
    "print('para un Radom Forest de profundidad 7:')\n",
    "print('Train RMSE:', np.sqrt(metrics.mean_squared_error(y_train, rfc_7.predict(X_train))))\n",
    "print('Test RMSE:', np.sqrt(metrics.mean_squared_error(y_test, rfc_7.predict(X_test))))\n",
    "print(\"\")\n",
    "\n",
    "print('para un Radom Forest de profundidad no limitada:')\n",
    "print('Train RMSE:', np.sqrt(metrics.mean_squared_error(y_train, rfc.predict(X_train))))\n",
    "print('Test RMSE:', np.sqrt(metrics.mean_squared_error(y_test, rfc.predict(X_test))))\n",
    "print(\"\")\n"
   ]
  },
  {
   "cell_type": "code",
   "execution_count": 8,
   "metadata": {},
   "outputs": [],
   "source": [
    "def comparation_chart(names, valores):\n",
    "    # Set styles for axes\n",
    "    plt.rcParams['axes.edgecolor']='#333F4B'\n",
    "    plt.rcParams['axes.linewidth']=0.8\n",
    "    plt.rcParams['xtick.color']='#333F4B'\n",
    "    plt.rcParams['ytick.color']='#333F4B'\n",
    "\n",
    "    # Plot\n",
    "    fig, ax = plt.subplots(figsize=(12,5))\n",
    "    plt.hlines(names, xmin=0, xmax=valores, color='#007acc', alpha=0.5, linewidth=5)\n",
    "\n",
    "    plt.xticks(rotation=90)\n",
    "    plt.plot(valores, names, \"o\", markersize=5, color='#007acc', alpha=0.9)\n",
    "    plt.title('Models\\' comparation')\n",
    "    plt.xlabel('RMSE')\n",
    "    plt.show()"
   ]
  },
  {
   "cell_type": "code",
   "execution_count": 11,
   "metadata": {},
   "outputs": [
    {
     "data": {
      "image/png": "[encoded data removed]",
      "text/plain": [
       "<Figure size 1200x500 with 1 Axes>"
      ]
     },
     "metadata": {},
     "output_type": "display_data"
    }
   ],
   "source": [
    "models = ['Deep_2', 'Deep_3', 'Deep_5', 'Deep_7', 'Unrestricted_deep']\n",
    "RMSE = [np.sqrt(metrics.mean_squared_error(y_test, rfc_2.predict(X_test))), \n",
    "        np.sqrt(metrics.mean_squared_error(y_test, rfc_3.predict(X_test))), \n",
    "        np.sqrt(metrics.mean_squared_error(y_test, rfc_5.predict(X_test))),\n",
    "        np.sqrt(metrics.mean_squared_error(y_test, rfc_7.predict(X_test))),\n",
    "        np.sqrt(metrics.mean_squared_error(y_test, rfc.predict(X_test)))\n",
    "        ]\n",
    "\n",
    "comparation_chart(models, RMSE)"
   ]
  },
  {
   "cell_type": "markdown",
   "metadata": {},
   "source": [
    "# Guardamos el modelo"
   ]
  },
  {
   "cell_type": "code",
   "execution_count": 12,
   "metadata": {},
   "outputs": [],
   "source": [
    "import pickle\n",
    "\n",
    "pickle.dump(rfc, open('../model/random_forest', 'wb'))"
   ]
  },
  {
   "cell_type": "markdown",
   "metadata": {},
   "source": [
    "# Conclusión\n",
    "\n",
    "El modelo Random Forest - sin restringir su profundidad - alcanza un RMSE de 326,41 ante datos nuevos (en test), por lo que tiene un rendimiento notablemente superior a la Regresión Lineal."
   ]
  }
 ],
 "metadata": {
  "interpreter": {
   "hash": "4a9361c6053ddebb4a3cbafa186ad24281b12153eb8dd7165b81196dc981e63a"
  },
  "kernelspec": {
   "display_name": "Python 3.7.4 64-bit",
   "language": "python",
   "name": "python3"
  },
  "language_info": {
   "codemirror_mode": {
    "name": "ipython",
    "version": 3
   },
   "file_extension": ".py",
   "mimetype": "text/x-python",
   "name": "python",
   "nbconvert_exporter": "python",
   "pygments_lexer": "ipython3",
   "version": "3.7.4"
  },
  "orig_nbformat": 4
 },
 "nbformat": 4,
 "nbformat_minor": 2
}
