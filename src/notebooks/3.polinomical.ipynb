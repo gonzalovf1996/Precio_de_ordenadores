{
 "cells": [
  {
   "cell_type": "code",
   "execution_count": 1,
   "metadata": {},
   "outputs": [],
   "source": [
    "# Tratamiento de datos\n",
    "# ==============================================================================\n",
    "import pandas as pd\n",
    "import numpy as np\n",
    "\n",
    "# Gráficos\n",
    "# ==============================================================================\n",
    "import seaborn as sns\n",
    "import matplotlib.pyplot as plt\n",
    "plt.style.use('default')"
   ]
  },
  {
   "cell_type": "markdown",
   "metadata": {},
   "source": [
    "# Aplicamos cargas polinómicas\n",
    "\n",
    "El modelo base es una regresión lineal. Aplicamos cargas polinómicas para comprobar si mejora el rendimiento del modelo."
   ]
  },
  {
   "cell_type": "code",
   "execution_count": 2,
   "metadata": {},
   "outputs": [],
   "source": [
    "# Importamos los datos\n",
    "\n",
    "train = pd.read_csv('../data/processed/train_tratado.csv')"
   ]
  },
  {
   "cell_type": "markdown",
   "metadata": {},
   "source": [
    "# Definición de variables"
   ]
  },
  {
   "cell_type": "code",
   "execution_count": 3,
   "metadata": {},
   "outputs": [],
   "source": [
    "# Nombramos a 'X' y a 'y'. Quitamos las variables que no son numéricas\n",
    "\n",
    "X = train[['Inches', 'Ram', 'Memory', 'Weight',\n",
    "       '2 in 1 Convertible', 'Gaming', 'Netbook', 'Notebook',\n",
    "       'Ultrabook', 'Workstation', 'Touchscreen', 'High_resolucion',\n",
    "       'Chrome OS', 'Linux', 'Mac OS X', 'No OS', 'Windows 10', 'Windows 10 S',\n",
    "       'Windows 7', 'macOS', 'Intel Core i3', 'Intel Core i5', 'Intel Core i7',\n",
    "       'Intel Celeron Dual Core', 'Intel Pentium Quad Core', 'A4', 'A6', 'A8',\n",
    "       'A10', 'A12']]\n",
    "\n",
    "y = train['Price_euros']"
   ]
  },
  {
   "cell_type": "code",
   "execution_count": 4,
   "metadata": {},
   "outputs": [
    {
     "name": "stdout",
     "output_type": "stream",
     "text": [
      "(729, 30)\n",
      "(183, 30)\n",
      "(729,)\n",
      "(183,)\n"
     ]
    }
   ],
   "source": [
    "# Separamos X_train y X_test\n",
    "\n",
    "from sklearn.model_selection import train_test_split\n",
    "\n",
    "X_train, X_test, y_train, y_test = train_test_split(X,\n",
    "                                                    y,\n",
    "                                                    test_size=0.20,\n",
    "                                                    random_state=0)\n",
    "\n",
    "print(X_train.shape)\n",
    "print(X_test.shape)\n",
    "print(y_train.shape)\n",
    "print(y_test.shape)"
   ]
  },
  {
   "cell_type": "markdown",
   "metadata": {},
   "source": [
    "# Probamos con regresión polinómica de grado 2"
   ]
  },
  {
   "cell_type": "code",
   "execution_count": 5,
   "metadata": {},
   "outputs": [],
   "source": [
    "from sklearn.preprocessing import PolynomialFeatures\n",
    "\n",
    "poly_reg_2 = PolynomialFeatures(degree = 2)\n",
    "poly_reg_2.fit(X_train)\n",
    "X_poly_train = poly_reg_2.transform(X_train)\n",
    "# X_poly_test = poly_reg_2.transform(X_test)"
   ]
  },
  {
   "cell_type": "code",
   "execution_count": 6,
   "metadata": {},
   "outputs": [
    {
     "data": {
      "text/plain": [
       "LinearRegression()"
      ]
     },
     "execution_count": 6,
     "metadata": {},
     "output_type": "execute_result"
    }
   ],
   "source": [
    "from sklearn.linear_model import LinearRegression\n",
    "\n",
    "pol_reg_2 = LinearRegression()\n",
    "pol_reg_2.fit(X_poly_train, y_train)\n",
    "# pol_reg_2.fit(X_poly_test, y_test)"
   ]
  },
  {
   "cell_type": "code",
   "execution_count": 7,
   "metadata": {},
   "outputs": [
    {
     "name": "stdout",
     "output_type": "stream",
     "text": [
      "Train MAE: 184.63779053794985\n",
      "Test MAE: 323.55968907963126\n",
      "\n",
      "Train MAPE: 0.17387136638656642\n",
      "Test MAPE: 0.37364845412025405\n",
      "\n",
      "Train MSE: 72514.50020583298\n",
      "Test MSE: 300352.02976840397\n",
      "\n",
      "Train RMSE: 269.2851652167883\n",
      "Test RMSE: 548.0438210293078\n",
      "\n",
      "Train score 0.8594311524605812\n",
      "Test score 0.38996109088903785\n"
     ]
    }
   ],
   "source": [
    "from sklearn import metrics\n",
    "\n",
    "# Evaluamos el modelo\n",
    "print('Train MAE:', metrics.mean_absolute_error(y_train, pol_reg_2.predict(X_poly_train)))\n",
    "print('Test MAE:', metrics.mean_absolute_error(y_test, pol_reg_2.predict(poly_reg_2.fit_transform(X_test))))\n",
    "print(\"\")\n",
    "print('Train MAPE:', metrics.mean_absolute_percentage_error(y_train, pol_reg_2.predict(X_poly_train)))\n",
    "print('Test MAPE:', metrics.mean_absolute_percentage_error(y_test, pol_reg_2.predict(poly_reg_2.fit_transform(X_test))))\n",
    "print(\"\")\n",
    "print('Train MSE:', metrics.mean_squared_error(y_train, pol_reg_2.predict(X_poly_train)))\n",
    "print('Test MSE:', metrics.mean_squared_error(y_test, pol_reg_2.predict(poly_reg_2.fit_transform(X_test))))\n",
    "print(\"\")\n",
    "print('Train RMSE:', np.sqrt(metrics.mean_squared_error(y_train, pol_reg_2.predict(X_poly_train))))\n",
    "print('Test RMSE:', np.sqrt(metrics.mean_squared_error(y_test, pol_reg_2.predict(poly_reg_2.fit_transform(X_test)))))\n",
    "print(\"\")\n",
    "print('Train score', pol_reg_2.score(X_poly_train, y_train))\n",
    "print('Test score', pol_reg_2.score(poly_reg_2.fit_transform(X_test), y_test))"
   ]
  },
  {
   "cell_type": "markdown",
   "metadata": {},
   "source": [
    "# Probamos con regresión polinómica de grado 3"
   ]
  },
  {
   "cell_type": "code",
   "execution_count": 8,
   "metadata": {},
   "outputs": [
    {
     "data": {
      "text/plain": [
       "LinearRegression()"
      ]
     },
     "execution_count": 8,
     "metadata": {},
     "output_type": "execute_result"
    }
   ],
   "source": [
    "poly_reg = PolynomialFeatures(degree = 3)\n",
    "poly_reg.fit(X_train)\n",
    "X_poly_train = poly_reg.transform(X_train)\n",
    "# X_poly_test = poly_reg.transform(X_test)\n",
    "\n",
    "\n",
    "pol_reg = LinearRegression()\n",
    "pol_reg.fit(X_poly_train, y_train)\n",
    "# pol_reg.fit(X_poly_test, y_test)"
   ]
  },
  {
   "cell_type": "code",
   "execution_count": 9,
   "metadata": {},
   "outputs": [
    {
     "name": "stdout",
     "output_type": "stream",
     "text": [
      "Train MAE: 111.45933232575288\n",
      "Test MAE: 13908.11817806836\n",
      "\n",
      "Train MAPE: 0.09846627165831684\n",
      "Test MAPE: 9.798124613441336\n",
      "\n",
      "Train MSE: 34399.73285420277\n",
      "Test MSE: 7855856846.964483\n",
      "\n",
      "Train RMSE: 185.47164973171175\n",
      "Test RMSE: 88633.27167020568\n",
      "\n",
      "Train score 0.933316360324439\n",
      "Test score -15954.871331215616\n"
     ]
    }
   ],
   "source": [
    "# Evaluamos el modelo\n",
    "print('Train MAE:', metrics.mean_absolute_error(y_train, pol_reg.predict(X_poly_train)))\n",
    "print('Test MAE:', metrics.mean_absolute_error(y_test, pol_reg.predict(poly_reg.fit_transform(X_test))))\n",
    "print(\"\")\n",
    "print('Train MAPE:', metrics.mean_absolute_percentage_error(y_train, pol_reg.predict(X_poly_train)))\n",
    "print('Test MAPE:', metrics.mean_absolute_percentage_error(y_test, pol_reg.predict(poly_reg.fit_transform(X_test))))\n",
    "print(\"\")\n",
    "print('Train MSE:', metrics.mean_squared_error(y_train, pol_reg.predict(X_poly_train)))\n",
    "print('Test MSE:', metrics.mean_squared_error(y_test, pol_reg.predict(poly_reg.fit_transform(X_test))))\n",
    "print(\"\")\n",
    "print('Train RMSE:', np.sqrt(metrics.mean_squared_error(y_train, pol_reg.predict(X_poly_train))))\n",
    "print('Test RMSE:', np.sqrt(metrics.mean_squared_error(y_test, pol_reg.predict(poly_reg.fit_transform(X_test)))))\n",
    "print(\"\")\n",
    "print('Train score', pol_reg.score(X_poly_train, y_train))\n",
    "print('Test score', pol_reg.score(poly_reg.fit_transform(X_test), y_test))"
   ]
  },
  {
   "cell_type": "markdown",
   "metadata": {},
   "source": [
    "# Probamos con regresión polinómica de grado 4"
   ]
  },
  {
   "cell_type": "code",
   "execution_count": 10,
   "metadata": {},
   "outputs": [
    {
     "data": {
      "text/plain": [
       "LinearRegression()"
      ]
     },
     "execution_count": 10,
     "metadata": {},
     "output_type": "execute_result"
    }
   ],
   "source": [
    "poly_reg = PolynomialFeatures(degree = 4)\n",
    "poly_reg.fit(X_train)\n",
    "X_poly_train = poly_reg.transform(X_train)\n",
    "# X_poly_test = poly_reg.transform(X_test)\n",
    "\n",
    "\n",
    "pol_reg = LinearRegression()\n",
    "pol_reg.fit(X_poly_train, y_train)\n",
    "# pol_reg.fit(X_poly_test, y_test)"
   ]
  },
  {
   "cell_type": "code",
   "execution_count": 11,
   "metadata": {},
   "outputs": [
    {
     "name": "stdout",
     "output_type": "stream",
     "text": [
      "Train MAE: 125.97884605875143\n",
      "Test MAE: 670301.556880342\n",
      "\n",
      "Train MAPE: 0.14102413748833473\n",
      "Test MAPE: 891.6359754455698\n",
      "\n",
      "Train MSE: 31569.05759166268\n",
      "Test MSE: 17073752352854.852\n",
      "\n",
      "Train RMSE: 177.67683470746175\n",
      "Test RMSE: 4132039.7327294485\n",
      "\n",
      "Train score 0.9388036043692044\n",
      "Test score -34678150.72681743\n"
     ]
    }
   ],
   "source": [
    "# Evaluamos el modelo\n",
    "print('Train MAE:', metrics.mean_absolute_error(y_train, pol_reg.predict(X_poly_train)))\n",
    "print('Test MAE:', metrics.mean_absolute_error(y_test, pol_reg.predict(poly_reg.fit_transform(X_test))))\n",
    "print(\"\")\n",
    "print('Train MAPE:', metrics.mean_absolute_percentage_error(y_train, pol_reg.predict(X_poly_train)))\n",
    "print('Test MAPE:', metrics.mean_absolute_percentage_error(y_test, pol_reg.predict(poly_reg.fit_transform(X_test))))\n",
    "print(\"\")\n",
    "print('Train MSE:', metrics.mean_squared_error(y_train, pol_reg.predict(X_poly_train)))\n",
    "print('Test MSE:', metrics.mean_squared_error(y_test, pol_reg.predict(poly_reg.fit_transform(X_test))))\n",
    "print(\"\")\n",
    "print('Train RMSE:', np.sqrt(metrics.mean_squared_error(y_train, pol_reg.predict(X_poly_train))))\n",
    "print('Test RMSE:', np.sqrt(metrics.mean_squared_error(y_test, pol_reg.predict(poly_reg.fit_transform(X_test)))))\n",
    "print(\"\")\n",
    "print('Train score', pol_reg.score(X_poly_train, y_train))\n",
    "print('Test score', pol_reg.score(poly_reg.fit_transform(X_test), y_test))"
   ]
  },
  {
   "cell_type": "markdown",
   "metadata": {},
   "source": [
    "## Conclusión\n",
    "\n",
    "Cuando aplicamos carga polinómica, la Regresión Lineal cae en overfitting y generaliza peor que con una Regresión Lineal simple.\n",
    "\n",
    "Descartamos la opción de aplicar carga polinómica."
   ]
  }
 ],
 "metadata": {
  "interpreter": {
   "hash": "4a9361c6053ddebb4a3cbafa186ad24281b12153eb8dd7165b81196dc981e63a"
  },
  "kernelspec": {
   "display_name": "Python 3.7.4 64-bit",
   "language": "python",
   "name": "python3"
  },
  "language_info": {
   "codemirror_mode": {
    "name": "ipython",
    "version": 3
   },
   "file_extension": ".py",
   "mimetype": "text/x-python",
   "name": "python",
   "nbconvert_exporter": "python",
   "pygments_lexer": "ipython3",
   "version": "3.7.4"
  },
  "orig_nbformat": 4
 },
 "nbformat": 4,
 "nbformat_minor": 2
}
