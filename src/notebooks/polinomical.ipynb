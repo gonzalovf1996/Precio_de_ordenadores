{
 "cells": [
  {
   "cell_type": "code",
   "execution_count": 1,
   "metadata": {},
   "outputs": [],
   "source": [
    "# Tratamiento de datos\n",
    "# ==============================================================================\n",
    "import pandas as pd\n",
    "\n",
    "# Gráficos\n",
    "# ==============================================================================\n",
    "import seaborn as sns\n",
    "import matplotlib.pyplot as plt\n",
    "plt.style.use('default')"
   ]
  },
  {
   "cell_type": "code",
   "execution_count": 2,
   "metadata": {},
   "outputs": [
    {
     "data": {
      "text/plain": [
       "Index(['Unnamed: 0', 'id', 'Company', 'Product', 'TypeName', 'Inches',\n",
       "       'ScreenResolution', 'Cpu', 'Ram', 'Memory', 'Gpu', 'OpSys', 'Weight',\n",
       "       'Price_euros', '2 in 1 Convertible', 'Gaming', 'Netbook', 'Notebook',\n",
       "       'Ultrabook', 'Workstation', 'Touchscreen', 'High_resolucion',\n",
       "       'Chrome OS', 'Linux', 'Mac OS X', 'No OS', 'Windows 10', 'Windows 10 S',\n",
       "       'Windows 7', 'macOS', 'Intel Core i3', 'Intel Core i5', 'Intel Core i7',\n",
       "       'Intel Celeron Dual Core', 'Intel Pentium Quad Core', 'A4', 'A6', 'A8',\n",
       "       'A10', 'A12'],\n",
       "      dtype='object')"
      ]
     },
     "execution_count": 2,
     "metadata": {},
     "output_type": "execute_result"
    }
   ],
   "source": [
    "# Importamos los datos\n",
    "\n",
    "train = pd.read_csv(r'datos/train_tratado.csv')\n",
    "train.columns"
   ]
  },
  {
   "cell_type": "code",
   "execution_count": 3,
   "metadata": {},
   "outputs": [],
   "source": [
    "# Nombramos a 'X' y a 'y'. Quitamos las variables que no son numéricas\n",
    "\n",
    "X = train[['Inches', 'Ram', 'Memory', 'Weight',\n",
    "       '2 in 1 Convertible', 'Gaming', 'Netbook', 'Notebook',\n",
    "       'Ultrabook', 'Workstation', 'Touchscreen', 'High_resolucion',\n",
    "       'Chrome OS', 'Linux', 'Mac OS X', 'No OS', 'Windows 10', 'Windows 10 S',\n",
    "       'Windows 7', 'macOS', 'Intel Core i3', 'Intel Core i5', 'Intel Core i7',\n",
    "       'Intel Celeron Dual Core', 'Intel Pentium Quad Core', 'A4', 'A6', 'A8',\n",
    "       'A10', 'A12']]\n",
    "\n",
    "y = train['Price_euros']"
   ]
  },
  {
   "cell_type": "code",
   "execution_count": 4,
   "metadata": {},
   "outputs": [
    {
     "name": "stdout",
     "output_type": "stream",
     "text": [
      "(729, 30)\n",
      "(183, 30)\n",
      "(729,)\n",
      "(183,)\n"
     ]
    }
   ],
   "source": [
    "# Separamos X_train y X_test\n",
    "\n",
    "from sklearn.model_selection import train_test_split\n",
    "\n",
    "X_train, X_test, y_train, y_test = train_test_split(X,\n",
    "                                                    y,\n",
    "                                                    test_size=0.20,\n",
    "                                                    random_state=0)\n",
    "\n",
    "print(X_train.shape)\n",
    "print(X_test.shape)\n",
    "print(y_train.shape)\n",
    "print(y_test.shape)"
   ]
  },
  {
   "cell_type": "markdown",
   "metadata": {},
   "source": [
    "# Probamos con regresión polinómica de grado 2"
   ]
  },
  {
   "cell_type": "code",
   "execution_count": 5,
   "metadata": {},
   "outputs": [],
   "source": [
    "from sklearn.preprocessing import PolynomialFeatures\n",
    "\n",
    "poly_reg_2 = PolynomialFeatures(degree = 2)\n",
    "poly_reg_2.fit(X_train)\n",
    "X_poly_train = poly_reg_2.transform(X_train)\n",
    "# X_poly_test = poly_reg_2.transform(X_test)"
   ]
  },
  {
   "cell_type": "code",
   "execution_count": 6,
   "metadata": {},
   "outputs": [
    {
     "data": {
      "text/plain": [
       "LinearRegression()"
      ]
     },
     "execution_count": 6,
     "metadata": {},
     "output_type": "execute_result"
    }
   ],
   "source": [
    "from sklearn.linear_model import LinearRegression\n",
    "\n",
    "pol_reg_2 = LinearRegression()\n",
    "pol_reg_2.fit(X_poly_train, y_train)\n",
    "# pol_reg_2.fit(X_poly_test, y_test)"
   ]
  },
  {
   "cell_type": "code",
   "execution_count": 7,
   "metadata": {},
   "outputs": [
    {
     "name": "stdout",
     "output_type": "stream",
     "text": [
      "Train MAE: 184.63779053794985\n",
      "Test MAE: 323.55968907963126\n",
      "\n",
      "Train MAPE: 0.17387136638656642\n",
      "Test MAPE: 0.37364845412025405\n",
      "\n",
      "Train MSE: 72514.50020583298\n",
      "Test MSE: 300352.02976840397\n",
      "\n",
      "Train RMSE: 269.2851652167883\n",
      "Test RMSE: 548.0438210293078\n",
      "\n",
      "Train score 0.8594311524605812\n",
      "Test score 0.38996109088903785\n"
     ]
    }
   ],
   "source": [
    "from sklearn import metrics\n",
    "\n",
    "# Evaluamos el modelo\n",
    "print('Train MAE:', metrics.mean_absolute_error(y_train, pol_reg_2.predict(X_poly_train)))\n",
    "print('Test MAE:', metrics.mean_absolute_error(y_test, pol_reg_2.predict(poly_reg_2.fit_transform(X_test))))\n",
    "print(\"\")\n",
    "print('Train MAPE:', metrics.mean_absolute_percentage_error(y_train, pol_reg_2.predict(X_poly_train)))\n",
    "print('Test MAPE:', metrics.mean_absolute_percentage_error(y_test, pol_reg_2.predict(poly_reg_2.fit_transform(X_test))))\n",
    "print(\"\")\n",
    "print('Train MSE:', metrics.mean_squared_error(y_train, pol_reg_2.predict(X_poly_train)))\n",
    "print('Test MSE:', metrics.mean_squared_error(y_test, pol_reg_2.predict(poly_reg_2.fit_transform(X_test))))\n",
    "print(\"\")\n",
    "print('Train RMSE:', np.sqrt(metrics.mean_squared_error(y_train, pol_reg_2.predict(X_poly_train))))\n",
    "print('Test RMSE:', np.sqrt(metrics.mean_squared_error(y_test, pol_reg_2.predict(poly_reg_2.fit_transform(X_test)))))\n",
    "print(\"\")\n",
    "print('Train score', pol_reg_2.score(X_poly_train, y_train))\n",
    "print('Test score', pol_reg_2.score(poly_reg_2.fit_transform(X_test), y_test))"
   ]
  },
  {
   "cell_type": "markdown",
   "metadata": {},
   "source": [
    "# Probamos con regresión polinómica de grado 3"
   ]
  },
  {
   "cell_type": "code",
   "execution_count": 8,
   "metadata": {},
   "outputs": [
    {
     "data": {
      "text/plain": [
       "LinearRegression()"
      ]
     },
     "execution_count": 8,
     "metadata": {},
     "output_type": "execute_result"
    }
   ],
   "source": [
    "poly_reg = PolynomialFeatures(degree = 3)\n",
    "poly_reg.fit(X_train)\n",
    "X_poly_train = poly_reg.transform(X_train)\n",
    "# X_poly_test = poly_reg.transform(X_test)\n",
    "\n",
    "\n",
    "pol_reg = LinearRegression()\n",
    "pol_reg.fit(X_poly_train, y_train)\n",
    "# pol_reg.fit(X_poly_test, y_test)"
   ]
  },
  {
   "cell_type": "code",
   "execution_count": 9,
   "metadata": {},
   "outputs": [
    {
     "name": "stdout",
     "output_type": "stream",
     "text": [
      "Train MAE: 111.45933232575288\n",
      "Test MAE: 13908.11817806836\n",
      "\n",
      "Train MAPE: 0.09846627165831684\n",
      "Test MAPE: 9.798124613441336\n",
      "\n",
      "Train MSE: 34399.73285420277\n",
      "Test MSE: 7855856846.964483\n",
      "\n",
      "Train RMSE: 185.47164973171175\n",
      "Test RMSE: 88633.27167020568\n",
      "\n",
      "Train score 0.933316360324439\n",
      "Test score -15954.871331215616\n"
     ]
    }
   ],
   "source": [
    "# Evaluamos el modelo\n",
    "print('Train MAE:', metrics.mean_absolute_error(y_train, pol_reg.predict(X_poly_train)))\n",
    "print('Test MAE:', metrics.mean_absolute_error(y_test, pol_reg.predict(poly_reg.fit_transform(X_test))))\n",
    "print(\"\")\n",
    "print('Train MAPE:', metrics.mean_absolute_percentage_error(y_train, pol_reg.predict(X_poly_train)))\n",
    "print('Test MAPE:', metrics.mean_absolute_percentage_error(y_test, pol_reg.predict(poly_reg.fit_transform(X_test))))\n",
    "print(\"\")\n",
    "print('Train MSE:', metrics.mean_squared_error(y_train, pol_reg.predict(X_poly_train)))\n",
    "print('Test MSE:', metrics.mean_squared_error(y_test, pol_reg.predict(poly_reg.fit_transform(X_test))))\n",
    "print(\"\")\n",
    "print('Train RMSE:', np.sqrt(metrics.mean_squared_error(y_train, pol_reg.predict(X_poly_train))))\n",
    "print('Test RMSE:', np.sqrt(metrics.mean_squared_error(y_test, pol_reg.predict(poly_reg.fit_transform(X_test)))))\n",
    "print(\"\")\n",
    "print('Train score', pol_reg.score(X_poly_train, y_train))\n",
    "print('Test score', pol_reg.score(poly_reg.fit_transform(X_test), y_test))"
   ]
  },
  {
   "cell_type": "markdown",
   "metadata": {},
   "source": [
    "# Probamos con regresión polinómica de grado 4"
   ]
  },
  {
   "cell_type": "code",
   "execution_count": 10,
   "metadata": {},
   "outputs": [
    {
     "data": {
      "text/plain": [
       "LinearRegression()"
      ]
     },
     "execution_count": 10,
     "metadata": {},
     "output_type": "execute_result"
    }
   ],
   "source": [
    "poly_reg = PolynomialFeatures(degree = 4)\n",
    "poly_reg.fit(X_train)\n",
    "X_poly_train = poly_reg.transform(X_train)\n",
    "# X_poly_test = poly_reg.transform(X_test)\n",
    "\n",
    "\n",
    "pol_reg = LinearRegression()\n",
    "pol_reg.fit(X_poly_train, y_train)\n",
    "# pol_reg.fit(X_poly_test, y_test)"
   ]
  },
  {
   "cell_type": "code",
   "execution_count": 11,
   "metadata": {},
   "outputs": [
    {
     "name": "stdout",
     "output_type": "stream",
     "text": [
      "Train MAE: 125.97884605875143\n",
      "Test MAE: 670301.556880342\n",
      "\n",
      "Train MAPE: 0.14102413748833473\n",
      "Test MAPE: 891.6359754455698\n",
      "\n",
      "Train MSE: 31569.05759166268\n",
      "Test MSE: 17073752352854.852\n",
      "\n",
      "Train RMSE: 177.67683470746175\n",
      "Test RMSE: 4132039.7327294485\n",
      "\n",
      "Train score 0.9388036043692044\n",
      "Test score -34678150.72681743\n"
     ]
    }
   ],
   "source": [
    "# Evaluamos el modelo\n",
    "print('Train MAE:', metrics.mean_absolute_error(y_train, pol_reg.predict(X_poly_train)))\n",
    "print('Test MAE:', metrics.mean_absolute_error(y_test, pol_reg.predict(poly_reg.fit_transform(X_test))))\n",
    "print(\"\")\n",
    "print('Train MAPE:', metrics.mean_absolute_percentage_error(y_train, pol_reg.predict(X_poly_train)))\n",
    "print('Test MAPE:', metrics.mean_absolute_percentage_error(y_test, pol_reg.predict(poly_reg.fit_transform(X_test))))\n",
    "print(\"\")\n",
    "print('Train MSE:', metrics.mean_squared_error(y_train, pol_reg.predict(X_poly_train)))\n",
    "print('Test MSE:', metrics.mean_squared_error(y_test, pol_reg.predict(poly_reg.fit_transform(X_test))))\n",
    "print(\"\")\n",
    "print('Train RMSE:', np.sqrt(metrics.mean_squared_error(y_train, pol_reg.predict(X_poly_train))))\n",
    "print('Test RMSE:', np.sqrt(metrics.mean_squared_error(y_test, pol_reg.predict(poly_reg.fit_transform(X_test)))))\n",
    "print(\"\")\n",
    "print('Train score', pol_reg.score(X_poly_train, y_train))\n",
    "print('Test score', pol_reg.score(poly_reg.fit_transform(X_test), y_test))"
   ]
  },
  {
   "cell_type": "markdown",
   "metadata": {},
   "source": [
    "# Punto óptimo en test en el grado polinómico de grado 4"
   ]
  },
  {
   "cell_type": "code",
   "execution_count": 12,
   "metadata": {},
   "outputs": [],
   "source": [
    "X_pred = pd.read_csv(\"Datos/test_tratado.csv\")\n",
    "\n",
    "X_pred_1 = X_pred[['Inches', 'Ram', 'Memory', 'Weight',\n",
    "       '2 in 1 Convertible', 'Gaming', 'Netbook', 'Notebook',\n",
    "       'Ultrabook', 'Workstation', 'Touchscreen', 'High_resolucion',\n",
    "       'Chrome OS', 'Linux', 'Mac OS X', 'No OS', 'Windows 10', 'Windows 10 S',\n",
    "       'Windows 7', 'macOS', 'Intel Core i3', 'Intel Core i5', 'Intel Core i7',\n",
    "       'Intel Celeron Dual Core', 'Intel Pentium Quad Core', 'A4', 'A6', 'A8',\n",
    "       'A10', 'A12']]"
   ]
  },
  {
   "cell_type": "code",
   "execution_count": 13,
   "metadata": {},
   "outputs": [],
   "source": [
    "poly_reg = PolynomialFeatures(degree = 4)\n",
    "poly_reg.fit(X_pred_1)\n",
    "X_poly_pred = poly_reg.transform(X_pred_1)"
   ]
  },
  {
   "cell_type": "code",
   "execution_count": 14,
   "metadata": {},
   "outputs": [],
   "source": [
    "predictions = pol_reg.predict(X_poly_pred)\n",
    "predictions = pd.DataFrame(predictions)"
   ]
  },
  {
   "cell_type": "code",
   "execution_count": 15,
   "metadata": {},
   "outputs": [],
   "source": [
    "submission = pd.DataFrame(X_pred['id'].copy())\n",
    "submission['Price_euros'] = predictions[0].copy()"
   ]
  },
  {
   "cell_type": "code",
   "execution_count": 16,
   "metadata": {},
   "outputs": [
    {
     "data": {
      "text/plain": [
       "(391, 2)"
      ]
     },
     "execution_count": 16,
     "metadata": {},
     "output_type": "execute_result"
    }
   ],
   "source": [
    "submission.shape"
   ]
  },
  {
   "cell_type": "code",
   "execution_count": 17,
   "metadata": {},
   "outputs": [
    {
     "data": {
      "text/html": [
       "<div>\n",
       "<style scoped>\n",
       "    .dataframe tbody tr th:only-of-type {\n",
       "        vertical-align: middle;\n",
       "    }\n",
       "\n",
       "    .dataframe tbody tr th {\n",
       "        vertical-align: top;\n",
       "    }\n",
       "\n",
       "    .dataframe thead th {\n",
       "        text-align: right;\n",
       "    }\n",
       "</style>\n",
       "<table border=\"1\" class=\"dataframe\">\n",
       "  <thead>\n",
       "    <tr style=\"text-align: right;\">\n",
       "      <th></th>\n",
       "      <th>id</th>\n",
       "      <th>Price_euros</th>\n",
       "    </tr>\n",
       "  </thead>\n",
       "  <tbody>\n",
       "    <tr>\n",
       "      <th>0</th>\n",
       "      <td>1184</td>\n",
       "      <td>-3.749384e+02</td>\n",
       "    </tr>\n",
       "    <tr>\n",
       "      <th>1</th>\n",
       "      <td>815</td>\n",
       "      <td>1.331750e+03</td>\n",
       "    </tr>\n",
       "    <tr>\n",
       "      <th>2</th>\n",
       "      <td>1244</td>\n",
       "      <td>2.985269e+05</td>\n",
       "    </tr>\n",
       "    <tr>\n",
       "      <th>3</th>\n",
       "      <td>1121</td>\n",
       "      <td>1.231492e+03</td>\n",
       "    </tr>\n",
       "    <tr>\n",
       "      <th>4</th>\n",
       "      <td>443</td>\n",
       "      <td>-1.358273e+05</td>\n",
       "    </tr>\n",
       "    <tr>\n",
       "      <th>5</th>\n",
       "      <td>16</td>\n",
       "      <td>9.789871e+02</td>\n",
       "    </tr>\n",
       "    <tr>\n",
       "      <th>6</th>\n",
       "      <td>262</td>\n",
       "      <td>6.941809e+02</td>\n",
       "    </tr>\n",
       "    <tr>\n",
       "      <th>7</th>\n",
       "      <td>152</td>\n",
       "      <td>8.088987e+02</td>\n",
       "    </tr>\n",
       "    <tr>\n",
       "      <th>8</th>\n",
       "      <td>336</td>\n",
       "      <td>-8.454074e+06</td>\n",
       "    </tr>\n",
       "    <tr>\n",
       "      <th>9</th>\n",
       "      <td>773</td>\n",
       "      <td>1.415384e+03</td>\n",
       "    </tr>\n",
       "    <tr>\n",
       "      <th>10</th>\n",
       "      <td>357</td>\n",
       "      <td>1.074247e+03</td>\n",
       "    </tr>\n",
       "    <tr>\n",
       "      <th>11</th>\n",
       "      <td>215</td>\n",
       "      <td>1.185957e+03</td>\n",
       "    </tr>\n",
       "    <tr>\n",
       "      <th>12</th>\n",
       "      <td>609</td>\n",
       "      <td>-1.993867e+05</td>\n",
       "    </tr>\n",
       "    <tr>\n",
       "      <th>13</th>\n",
       "      <td>476</td>\n",
       "      <td>2.436174e+04</td>\n",
       "    </tr>\n",
       "    <tr>\n",
       "      <th>14</th>\n",
       "      <td>374</td>\n",
       "      <td>8.450959e+02</td>\n",
       "    </tr>\n",
       "    <tr>\n",
       "      <th>15</th>\n",
       "      <td>425</td>\n",
       "      <td>1.097487e+03</td>\n",
       "    </tr>\n",
       "    <tr>\n",
       "      <th>16</th>\n",
       "      <td>42</td>\n",
       "      <td>-1.425910e+03</td>\n",
       "    </tr>\n",
       "    <tr>\n",
       "      <th>17</th>\n",
       "      <td>1293</td>\n",
       "      <td>9.431787e+02</td>\n",
       "    </tr>\n",
       "    <tr>\n",
       "      <th>18</th>\n",
       "      <td>184</td>\n",
       "      <td>-1.886733e+02</td>\n",
       "    </tr>\n",
       "    <tr>\n",
       "      <th>19</th>\n",
       "      <td>936</td>\n",
       "      <td>7.243514e+02</td>\n",
       "    </tr>\n",
       "  </tbody>\n",
       "</table>\n",
       "</div>"
      ],
      "text/plain": [
       "      id   Price_euros\n",
       "0   1184 -3.749384e+02\n",
       "1    815  1.331750e+03\n",
       "2   1244  2.985269e+05\n",
       "3   1121  1.231492e+03\n",
       "4    443 -1.358273e+05\n",
       "5     16  9.789871e+02\n",
       "6    262  6.941809e+02\n",
       "7    152  8.088987e+02\n",
       "8    336 -8.454074e+06\n",
       "9    773  1.415384e+03\n",
       "10   357  1.074247e+03\n",
       "11   215  1.185957e+03\n",
       "12   609 -1.993867e+05\n",
       "13   476  2.436174e+04\n",
       "14   374  8.450959e+02\n",
       "15   425  1.097487e+03\n",
       "16    42 -1.425910e+03\n",
       "17  1293  9.431787e+02\n",
       "18   184 -1.886733e+02\n",
       "19   936  7.243514e+02"
      ]
     },
     "execution_count": 17,
     "metadata": {},
     "output_type": "execute_result"
    }
   ],
   "source": [
    "submission.head(20)"
   ]
  },
  {
   "cell_type": "markdown",
   "metadata": {},
   "source": [
    "# Pasamos el check"
   ]
  },
  {
   "cell_type": "code",
   "execution_count": 18,
   "metadata": {},
   "outputs": [],
   "source": [
    "import urllib.request\n",
    "from PIL import Image"
   ]
  },
  {
   "cell_type": "code",
   "execution_count": 19,
   "metadata": {},
   "outputs": [],
   "source": [
    "sample = pd.read_csv(\"Datos/sample_submission.csv\")"
   ]
  },
  {
   "cell_type": "code",
   "execution_count": 20,
   "metadata": {},
   "outputs": [],
   "source": [
    "def chequeator(df_to_submit):\n",
    "    \"\"\"\n",
    "    Esta función se asegura de que tu submission tenga la forma requerida por Kaggle.\n",
    "    \n",
    "    Si es así, se guardará el dataframe en un `csv` y estará listo para subir a Kaggle.\n",
    "    \n",
    "    Si no, LEE EL MENSAJE Y HAZLE CASO.\n",
    "    \n",
    "    Si aún no:\n",
    "    - apaga tu ordenador, \n",
    "    - date una vuelta, \n",
    "    - enciendelo otra vez, \n",
    "    - abre este notebook y \n",
    "    - leelo todo de nuevo. \n",
    "    Todos nos merecemos una segunda oportunidad. También tú.\n",
    "    \"\"\"\n",
    "    if df_to_submit.shape == sample.shape:\n",
    "        if df_to_submit.columns.all() == sample.columns.all():\n",
    "            if df_to_submit.id.all() == sample.id.all():\n",
    "                print(\"You're ready to submit!\")\n",
    "                submission.to_csv(\"submission.csv\", index = False) #muy importante el index = False\n",
    "                urllib.request.urlretrieve(\"https://i.kym-cdn.com/photos/images/facebook/000/747/556/27a.jpg\", \"gfg.png\")     \n",
    "                img = Image.open(\"gfg.png\")\n",
    "                img.show()   \n",
    "            else:\n",
    "                print(\"Check the ids and try again\")\n",
    "        else:\n",
    "            print(\"Check the names of the columns and try again\")\n",
    "    else:\n",
    "        print(\"Check the number of rows and/or columns and try again\")\n",
    "        print(\"\\nMensaje secreto de Clara: No me puedo creer que después de todo este notebook hayas hecho algún cambio en las filas de `diamonds_test.csv`. Lloro.\")\n"
   ]
  },
  {
   "cell_type": "code",
   "execution_count": 92,
   "metadata": {},
   "outputs": [
    {
     "name": "stdout",
     "output_type": "stream",
     "text": [
      "You're ready to submit!\n"
     ]
    }
   ],
   "source": [
    "# chequeator(submission)"
   ]
  }
 ],
 "metadata": {
  "interpreter": {
   "hash": "c476fdca1fa146c1aa9930d737fa2969289d4717133eb1043d72ac40501f9294"
  },
  "kernelspec": {
   "display_name": "Python 3.7.4 64-bit",
   "language": "python",
   "name": "python3"
  },
  "language_info": {
   "codemirror_mode": {
    "name": "ipython",
    "version": 3
   },
   "file_extension": ".py",
   "mimetype": "text/x-python",
   "name": "python",
   "nbconvert_exporter": "python",
   "pygments_lexer": "ipython3",
   "version": "3.7.4"
  },
  "orig_nbformat": 4
 },
 "nbformat": 4,
 "nbformat_minor": 2
}
