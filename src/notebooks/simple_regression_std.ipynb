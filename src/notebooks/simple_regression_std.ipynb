{
 "cells": [
  {
   "cell_type": "code",
   "execution_count": 1,
   "metadata": {},
   "outputs": [],
   "source": [
    "import pandas as pd\n",
    "import numpy as np\n",
    "import matplotlib.pyplot as plt\n",
    "import seaborn as sns"
   ]
  },
  {
   "cell_type": "code",
   "execution_count": 2,
   "metadata": {},
   "outputs": [
    {
     "data": {
      "text/plain": [
       "Index(['Unnamed: 0', 'id', 'Company', 'Product', 'TypeName', 'Inches',\n",
       "       'ScreenResolution', 'Cpu', 'Ram', 'Memory', 'Gpu', 'OpSys', 'Weight',\n",
       "       'Price_euros', '2 in 1 Convertible', 'Gaming', 'Netbook', 'Notebook',\n",
       "       'Ultrabook', 'Workstation', 'Touchscreen', 'High_resolucion',\n",
       "       'Chrome OS', 'Linux', 'Mac OS X', 'No OS', 'Windows 10', 'Windows 10 S',\n",
       "       'Windows 7', 'macOS'],\n",
       "      dtype='object')"
      ]
     },
     "execution_count": 2,
     "metadata": {},
     "output_type": "execute_result"
    }
   ],
   "source": [
    "# Importamos los datos\n",
    "\n",
    "train = pd.read_csv(r'datos/train_tratado.csv')\n",
    "train.columns"
   ]
  },
  {
   "cell_type": "code",
   "execution_count": 3,
   "metadata": {},
   "outputs": [],
   "source": [
    "# Nombramos a 'X' y a 'y'. Quitamos las variables que no son numéricas\n",
    "\n",
    "X = train[['Inches', 'Ram', 'Memory', 'Weight',\n",
    "       '2 in 1 Convertible', 'Gaming', 'Netbook', 'Notebook',\n",
    "       'Ultrabook', 'Workstation', 'Touchscreen', 'High_resolucion',\n",
    "       'Chrome OS', 'Linux', 'Mac OS X', 'No OS', 'Windows 10', 'Windows 10 S',\n",
    "       'Windows 7', 'macOS']]\n",
    "\n",
    "y = train['Price_euros']"
   ]
  },
  {
   "cell_type": "code",
   "execution_count": 4,
   "metadata": {},
   "outputs": [
    {
     "name": "stdout",
     "output_type": "stream",
     "text": [
      "(729, 20)\n",
      "(183, 20)\n",
      "(729,)\n",
      "(183,)\n"
     ]
    }
   ],
   "source": [
    "# Separamos X_train y X_test\n",
    "\n",
    "from sklearn.model_selection import train_test_split\n",
    "\n",
    "X_train, X_test, y_train, y_test = train_test_split(X,\n",
    "                                                    y,\n",
    "                                                    test_size=0.20,\n",
    "                                                    random_state=0)\n",
    "\n",
    "print(X_train.shape)\n",
    "print(X_test.shape)\n",
    "print(y_train.shape)\n",
    "print(y_test.shape)"
   ]
  },
  {
   "cell_type": "code",
   "execution_count": 5,
   "metadata": {},
   "outputs": [
    {
     "data": {
      "text/plain": [
       "LinearRegression()"
      ]
     },
     "execution_count": 5,
     "metadata": {},
     "output_type": "execute_result"
    }
   ],
   "source": [
    "# Estandarizamos\n",
    "\n",
    "from sklearn.linear_model import LinearRegression\n",
    "from sklearn.preprocessing import StandardScaler\n",
    "\n",
    "std_scale = StandardScaler()\n",
    "std_scale_fit = std_scale.fit(X_train)\n",
    "\n",
    "X_train_scale = std_scale_fit.transform(X_train)\n",
    "X_test_scale = std_scale_fit.transform(X_test)\n",
    "\n",
    "model_scale = LinearRegression()\n",
    "model_scale.fit(X_train_scale, y_train)"
   ]
  },
  {
   "cell_type": "code",
   "execution_count": 6,
   "metadata": {},
   "outputs": [
    {
     "data": {
      "text/html": [
       "<div>\n",
       "<style scoped>\n",
       "    .dataframe tbody tr th:only-of-type {\n",
       "        vertical-align: middle;\n",
       "    }\n",
       "\n",
       "    .dataframe tbody tr th {\n",
       "        vertical-align: top;\n",
       "    }\n",
       "\n",
       "    .dataframe thead th {\n",
       "        text-align: right;\n",
       "    }\n",
       "</style>\n",
       "<table border=\"1\" class=\"dataframe\">\n",
       "  <thead>\n",
       "    <tr style=\"text-align: right;\">\n",
       "      <th></th>\n",
       "      <th>coefficient</th>\n",
       "    </tr>\n",
       "  </thead>\n",
       "  <tbody>\n",
       "    <tr>\n",
       "      <th>Windows 10</th>\n",
       "      <td>6.892288e+14</td>\n",
       "    </tr>\n",
       "    <tr>\n",
       "      <th>Linux</th>\n",
       "      <td>3.884875e+14</td>\n",
       "    </tr>\n",
       "    <tr>\n",
       "      <th>No OS</th>\n",
       "      <td>3.884875e+14</td>\n",
       "    </tr>\n",
       "    <tr>\n",
       "      <th>Windows 7</th>\n",
       "      <td>3.306889e+14</td>\n",
       "    </tr>\n",
       "    <tr>\n",
       "      <th>Chrome OS</th>\n",
       "      <td>2.579634e+14</td>\n",
       "    </tr>\n",
       "    <tr>\n",
       "      <th>macOS</th>\n",
       "      <td>1.772070e+14</td>\n",
       "    </tr>\n",
       "    <tr>\n",
       "      <th>Mac OS X</th>\n",
       "      <td>1.499746e+14</td>\n",
       "    </tr>\n",
       "    <tr>\n",
       "      <th>Windows 10 S</th>\n",
       "      <td>1.499746e+14</td>\n",
       "    </tr>\n",
       "    <tr>\n",
       "      <th>Ram</th>\n",
       "      <td>4.246150e+02</td>\n",
       "    </tr>\n",
       "    <tr>\n",
       "      <th>Weight</th>\n",
       "      <td>8.955483e+01</td>\n",
       "    </tr>\n",
       "    <tr>\n",
       "      <th>Touchscreen</th>\n",
       "      <td>8.643702e+01</td>\n",
       "    </tr>\n",
       "    <tr>\n",
       "      <th>High_resolucion</th>\n",
       "      <td>4.292924e+01</td>\n",
       "    </tr>\n",
       "    <tr>\n",
       "      <th>Memory</th>\n",
       "      <td>-4.982730e+01</td>\n",
       "    </tr>\n",
       "    <tr>\n",
       "      <th>Inches</th>\n",
       "      <td>-5.232618e+01</td>\n",
       "    </tr>\n",
       "    <tr>\n",
       "      <th>Workstation</th>\n",
       "      <td>-1.289869e+15</td>\n",
       "    </tr>\n",
       "    <tr>\n",
       "      <th>Netbook</th>\n",
       "      <td>-1.361718e+15</td>\n",
       "    </tr>\n",
       "    <tr>\n",
       "      <th>2 in 1 Convertible</th>\n",
       "      <td>-2.565634e+15</td>\n",
       "    </tr>\n",
       "    <tr>\n",
       "      <th>Ultrabook</th>\n",
       "      <td>-3.012855e+15</td>\n",
       "    </tr>\n",
       "    <tr>\n",
       "      <th>Gaming</th>\n",
       "      <td>-3.047828e+15</td>\n",
       "    </tr>\n",
       "    <tr>\n",
       "      <th>Notebook</th>\n",
       "      <td>-4.246991e+15</td>\n",
       "    </tr>\n",
       "  </tbody>\n",
       "</table>\n",
       "</div>"
      ],
      "text/plain": [
       "                     coefficient\n",
       "Windows 10          6.892288e+14\n",
       "Linux               3.884875e+14\n",
       "No OS               3.884875e+14\n",
       "Windows 7           3.306889e+14\n",
       "Chrome OS           2.579634e+14\n",
       "macOS               1.772070e+14\n",
       "Mac OS X            1.499746e+14\n",
       "Windows 10 S        1.499746e+14\n",
       "Ram                 4.246150e+02\n",
       "Weight              8.955483e+01\n",
       "Touchscreen         8.643702e+01\n",
       "High_resolucion     4.292924e+01\n",
       "Memory             -4.982730e+01\n",
       "Inches             -5.232618e+01\n",
       "Workstation        -1.289869e+15\n",
       "Netbook            -1.361718e+15\n",
       "2 in 1 Convertible -2.565634e+15\n",
       "Ultrabook          -3.012855e+15\n",
       "Gaming             -3.047828e+15\n",
       "Notebook           -4.246991e+15"
      ]
     },
     "execution_count": 6,
     "metadata": {},
     "output_type": "execute_result"
    }
   ],
   "source": [
    "# Vemos el valor atribuido por el modelo a cada coeficiente\n",
    "\n",
    "intercept_scal = model_scale.intercept_\n",
    "features_std = pd.DataFrame(model_scale.coef_, X_train.columns, columns=['coefficient'])\n",
    "\n",
    "features_std.sort_values('coefficient', ascending=False)"
   ]
  },
  {
   "cell_type": "code",
   "execution_count": 7,
   "metadata": {},
   "outputs": [
    {
     "data": {
      "image/png": "[encoded data removed]",
      "text/plain": [
       "<Figure size 864x864 with 1 Axes>"
      ]
     },
     "metadata": {
      "needs_background": "light"
     },
     "output_type": "display_data"
    }
   ],
   "source": [
    "plt.figure(figsize=(12, 12))\n",
    "features_std = features_std.sort_values('coefficient', ascending=True)\n",
    "plt.barh(features_std.index, features_std.coefficient);"
   ]
  },
  {
   "cell_type": "code",
   "execution_count": 10,
   "metadata": {},
   "outputs": [
    {
     "name": "stdout",
     "output_type": "stream",
     "text": [
      "Train MAE: 283.3272829055041\n",
      "Test MAE: 285.00115296735055\n",
      "\n",
      "Train MAPE: 0.29397525687068676\n",
      "Test MAPE: 0.3244335204457459\n",
      "\n",
      "Train MSE: 161452.14524116743\n",
      "Test MSE: 160513.89235016794\n",
      "\n",
      "Train RMSE: 401.8110815310691\n",
      "Test RMSE: 400.64185047267335\n",
      "\n",
      "Train score -2.6718978018963937e+25\n",
      "Test score -3.4482487392816266e+25\n"
     ]
    },
    {
     "name": "stderr",
     "output_type": "stream",
     "text": [
      "C:\\Users\\gonza\\AppData\\Local\\Programs\\Python\\Python37\\lib\\site-packages\\sklearn\\base.py:444: UserWarning: X has feature names, but LinearRegression was fitted without feature names\n",
      "  f\"X has feature names, but {self.__class__.__name__} was fitted without\"\n",
      "C:\\Users\\gonza\\AppData\\Local\\Programs\\Python\\Python37\\lib\\site-packages\\sklearn\\base.py:444: UserWarning: X has feature names, but LinearRegression was fitted without feature names\n",
      "  f\"X has feature names, but {self.__class__.__name__} was fitted without\"\n"
     ]
    }
   ],
   "source": [
    "from sklearn import metrics\n",
    "\n",
    "# Calculamos los errores\n",
    "print('Train MAE:', metrics.mean_absolute_error(y_train, model_scale.predict(X_train_scale)))\n",
    "print('Test MAE:', metrics.mean_absolute_error(y_test, model_scale.predict(X_test_scale)))\n",
    "print(\"\")\n",
    "print('Train MAPE:', metrics.mean_absolute_percentage_error(y_train, model_scale.predict(X_train_scale)))\n",
    "print('Test MAPE:', metrics.mean_absolute_percentage_error(y_test, model_scale.predict(X_test_scale)))\n",
    "print(\"\")\n",
    "print('Train MSE:', metrics.mean_squared_error(y_train, model_scale.predict(X_train_scale)))\n",
    "print('Test MSE:', metrics.mean_squared_error(y_test, model_scale.predict(X_test_scale)))\n",
    "print(\"\")\n",
    "print('Train RMSE:', np.sqrt(metrics.mean_squared_error(y_train, model_scale.predict(X_train_scale))))\n",
    "print('Test RMSE:', np.sqrt(metrics.mean_squared_error(y_test, model_scale.predict(X_test_scale))))\n",
    "print(\"\")\n",
    "print('Train score', model_scale.score(X_train, model_scale.predict(X_train_scale)))\n",
    "print('Test score', model_scale.score(X_test, model_scale.predict(X_test_scale)))"
   ]
  },
  {
   "cell_type": "code",
   "execution_count": 12,
   "metadata": {},
   "outputs": [
    {
     "name": "stderr",
     "output_type": "stream",
     "text": [
      "C:\\Users\\gonza\\AppData\\Local\\Programs\\Python\\Python37\\lib\\site-packages\\seaborn\\_decorators.py:43: FutureWarning: Pass the following variables as keyword args: x, y. From version 0.12, the only valid positional argument will be `data`, and passing other arguments without an explicit keyword will result in an error or misinterpretation.\n",
      "  FutureWarning\n"
     ]
    },
    {
     "data": {
      "image/png": "[encoded data removed]",
      "text/plain": [
       "<Figure size 720x720 with 1 Axes>"
      ]
     },
     "metadata": {},
     "output_type": "display_data"
    }
   ],
   "source": [
    "plt.figure(figsize=(10,10))\n",
    "sns.set_style('white')\n",
    "sns.regplot(y_test, model_scale.predict(X_test_scale), line_kws={\"color\":\"r\",\"alpha\":0.7,\"lw\":5});"
   ]
  }
 ],
 "metadata": {
  "interpreter": {
   "hash": "c476fdca1fa146c1aa9930d737fa2969289d4717133eb1043d72ac40501f9294"
  },
  "kernelspec": {
   "display_name": "Python 3.7.4 64-bit",
   "language": "python",
   "name": "python3"
  },
  "language_info": {
   "codemirror_mode": {
    "name": "ipython",
    "version": 3
   },
   "file_extension": ".py",
   "mimetype": "text/x-python",
   "name": "python",
   "nbconvert_exporter": "python",
   "pygments_lexer": "ipython3",
   "version": "3.7.4"
  },
  "orig_nbformat": 4
 },
 "nbformat": 4,
 "nbformat_minor": 2
}
